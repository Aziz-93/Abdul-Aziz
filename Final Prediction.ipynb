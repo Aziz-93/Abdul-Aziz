{
 "cells": [
  {
   "cell_type": "code",
   "execution_count": 1,
   "id": "b27537a6",
   "metadata": {},
   "outputs": [],
   "source": [
    "import pandas as pd\n",
    "import joblib as jb\n",
    "from math import sqrt\n",
    "from sklearn.metrics import mean_absolute_error, mean_squared_error, r2_score"
   ]
  },
  {
   "cell_type": "code",
   "execution_count": 2,
   "id": "f5f650e7",
   "metadata": {},
   "outputs": [],
   "source": [
    "model=jb.load('file/train/model/reg.pkl')\n"
   ]
  },
  {
   "cell_type": "code",
   "execution_count": 4,
   "id": "7170d7f9",
   "metadata": {
    "scrolled": true
   },
   "outputs": [],
   "source": [
    "def flow (X_path,Y_path):\n",
    "    #read\n",
    "    X_test=pd.read_csv(X_path)\n",
    "    Y_test=pd.read_csv(Y_path)\n",
    "    # predcit\n",
    "    y_pred=pd.DataFrame(model.predict(X_test))\n",
    "    #metrics\n",
    "    MSE = mean_squared_error(Y_test, y_pred)\n",
    "    RMSE = np.sqrt(MSE)\n",
    "    MAE = mean_absolute_error(Y_test, y_pred)\n",
    "    R2 = r2_score(Y_test, y_pred)\n",
    " \n",
    "    return y_pred,MSE,RMSE,MAE,R2"
   ]
  },
  {
   "cell_type": "code",
   "execution_count": 10,
   "id": "523a5d86",
   "metadata": {},
   "outputs": [
    {
     "ename": "TypeError",
     "evalue": "flow() missing 2 required positional arguments: 'X_path' and 'Y_path'",
     "output_type": "error",
     "traceback": [
      "\u001b[1;31m---------------------------------------------------------------------------\u001b[0m",
      "\u001b[1;31mTypeError\u001b[0m                                 Traceback (most recent call last)",
      "Cell \u001b[1;32mIn[10], line 1\u001b[0m\n\u001b[1;32m----> 1\u001b[0m y_pred,MSE,RMSE,MAE,R2\u001b[38;5;241m=\u001b[39m\u001b[43mflow\u001b[49m\u001b[43m(\u001b[49m\u001b[43m)\u001b[49m\n",
      "\u001b[1;31mTypeError\u001b[0m: flow() missing 2 required positional arguments: 'X_path' and 'Y_path'"
     ]
    }
   ],
   "source": [
    "y_pred,MSE,RMSE,MAE,R2=flow()"
   ]
  },
  {
   "cell_type": "code",
   "execution_count": null,
   "id": "34f73d8f",
   "metadata": {},
   "outputs": [],
   "source": [
    "y_pred,MSE,RMSE,MAE,R2=flow()"
   ]
  },
  {
   "cell_type": "code",
   "execution_count": null,
   "id": "2aca28f3",
   "metadata": {},
   "outputs": [],
   "source": []
  }
 ],
 "metadata": {
  "kernelspec": {
   "display_name": "Python 3 (ipykernel)",
   "language": "python",
   "name": "python3"
  },
  "language_info": {
   "codemirror_mode": {
    "name": "ipython",
    "version": 3
   },
   "file_extension": ".py",
   "mimetype": "text/x-python",
   "name": "python",
   "nbconvert_exporter": "python",
   "pygments_lexer": "ipython3",
   "version": "3.11.3"
  }
 },
 "nbformat": 4,
 "nbformat_minor": 5
}
