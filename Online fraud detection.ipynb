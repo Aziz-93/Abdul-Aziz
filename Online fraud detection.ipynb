{
 "cells": [
  {
   "cell_type": "code",
   "execution_count": null,
   "id": "a7ed4b31",
   "metadata": {},
   "outputs": [],
   "source": []
  },
  {
   "cell_type": "markdown",
   "id": "847a7db9",
   "metadata": {},
   "source": [
    "## Steps\n",
    "\n",
    "#### 1) Importing libraries\n",
    "\n",
    "\n",
    "#### 2) Read Data\n",
    "\n",
    "\n",
    "#### 3) Data Preprocessing \n",
    "\n",
    "\n",
    "#### 4) Feature Engineering \n",
    "\n",
    "                    \n",
    "#### 5) Model Training"
   ]
  },
  {
   "cell_type": "markdown",
   "id": "22707f51",
   "metadata": {},
   "source": [
    "## 1) Importing libraries"
   ]
  },
  {
   "cell_type": "code",
   "execution_count": 1,
   "id": "69141354",
   "metadata": {},
   "outputs": [],
   "source": [
    "import pandas as pd\n",
    "import numpy as np\n",
    "import matplotlib.pyplot as plt\n",
    "import seaborn as sns\n",
    "\n",
    "from sklearn.preprocessing import OrdinalEncoder\n",
    "from sklearn.model_selection import train_test_split\n",
    "\n",
    "from sklearn.linear_model import LogisticRegression\n",
    "from sklearn.ensemble import RandomForestRegressor\n",
    "from sklearn.svm import SVC\n",
    "from sklearn.ensemble import GradientBoostingRegressor\n",
    "\n",
    "import warnings\n",
    "warnings.filterwarnings('ignore')"
   ]
  },
  {
   "cell_type": "markdown",
   "id": "87cb65f4",
   "metadata": {},
   "source": [
    "## 2) Read Data"
   ]
  },
  {
   "cell_type": "code",
   "execution_count": 2,
   "id": "8e442539",
   "metadata": {},
   "outputs": [],
   "source": [
    "df=pd.read_csv('E:\\Rajalakshmi\\PROJECT\\online fraud payment.csv')"
   ]
  },
  {
   "cell_type": "code",
   "execution_count": 3,
   "id": "4d241103",
   "metadata": {},
   "outputs": [
    {
     "data": {
      "text/html": [
       "<div>\n",
       "<style scoped>\n",
       "    .dataframe tbody tr th:only-of-type {\n",
       "        vertical-align: middle;\n",
       "    }\n",
       "\n",
       "    .dataframe tbody tr th {\n",
       "        vertical-align: top;\n",
       "    }\n",
       "\n",
       "    .dataframe thead th {\n",
       "        text-align: right;\n",
       "    }\n",
       "</style>\n",
       "<table border=\"1\" class=\"dataframe\">\n",
       "  <thead>\n",
       "    <tr style=\"text-align: right;\">\n",
       "      <th></th>\n",
       "      <th>step</th>\n",
       "      <th>type</th>\n",
       "      <th>amount</th>\n",
       "      <th>nameOrig</th>\n",
       "      <th>oldbalanceOrg</th>\n",
       "      <th>newbalanceOrig</th>\n",
       "      <th>nameDest</th>\n",
       "      <th>oldbalanceDest</th>\n",
       "      <th>newbalanceDest</th>\n",
       "      <th>isFraud</th>\n",
       "      <th>isFlaggedFraud</th>\n",
       "    </tr>\n",
       "  </thead>\n",
       "  <tbody>\n",
       "    <tr>\n",
       "      <th>0</th>\n",
       "      <td>1</td>\n",
       "      <td>PAYMENT</td>\n",
       "      <td>9839.64</td>\n",
       "      <td>C1231006815</td>\n",
       "      <td>170136.00</td>\n",
       "      <td>160296.36</td>\n",
       "      <td>M1979787155</td>\n",
       "      <td>0.00</td>\n",
       "      <td>0.00</td>\n",
       "      <td>0</td>\n",
       "      <td>0</td>\n",
       "    </tr>\n",
       "    <tr>\n",
       "      <th>1</th>\n",
       "      <td>1</td>\n",
       "      <td>PAYMENT</td>\n",
       "      <td>1864.28</td>\n",
       "      <td>C1666544295</td>\n",
       "      <td>21249.00</td>\n",
       "      <td>19384.72</td>\n",
       "      <td>M2044282225</td>\n",
       "      <td>0.00</td>\n",
       "      <td>0.00</td>\n",
       "      <td>0</td>\n",
       "      <td>0</td>\n",
       "    </tr>\n",
       "    <tr>\n",
       "      <th>2</th>\n",
       "      <td>1</td>\n",
       "      <td>TRANSFER</td>\n",
       "      <td>181.00</td>\n",
       "      <td>C1305486145</td>\n",
       "      <td>181.00</td>\n",
       "      <td>0.00</td>\n",
       "      <td>C553264065</td>\n",
       "      <td>0.00</td>\n",
       "      <td>0.00</td>\n",
       "      <td>1</td>\n",
       "      <td>0</td>\n",
       "    </tr>\n",
       "    <tr>\n",
       "      <th>3</th>\n",
       "      <td>1</td>\n",
       "      <td>CASH_OUT</td>\n",
       "      <td>181.00</td>\n",
       "      <td>C840083671</td>\n",
       "      <td>181.00</td>\n",
       "      <td>0.00</td>\n",
       "      <td>C38997010</td>\n",
       "      <td>21182.00</td>\n",
       "      <td>0.00</td>\n",
       "      <td>1</td>\n",
       "      <td>0</td>\n",
       "    </tr>\n",
       "    <tr>\n",
       "      <th>4</th>\n",
       "      <td>1</td>\n",
       "      <td>PAYMENT</td>\n",
       "      <td>11668.14</td>\n",
       "      <td>C2048537720</td>\n",
       "      <td>41554.00</td>\n",
       "      <td>29885.86</td>\n",
       "      <td>M1230701703</td>\n",
       "      <td>0.00</td>\n",
       "      <td>0.00</td>\n",
       "      <td>0</td>\n",
       "      <td>0</td>\n",
       "    </tr>\n",
       "    <tr>\n",
       "      <th>...</th>\n",
       "      <td>...</td>\n",
       "      <td>...</td>\n",
       "      <td>...</td>\n",
       "      <td>...</td>\n",
       "      <td>...</td>\n",
       "      <td>...</td>\n",
       "      <td>...</td>\n",
       "      <td>...</td>\n",
       "      <td>...</td>\n",
       "      <td>...</td>\n",
       "      <td>...</td>\n",
       "    </tr>\n",
       "    <tr>\n",
       "      <th>99994</th>\n",
       "      <td>10</td>\n",
       "      <td>PAYMENT</td>\n",
       "      <td>62.19</td>\n",
       "      <td>C559473129</td>\n",
       "      <td>215097.09</td>\n",
       "      <td>215034.89</td>\n",
       "      <td>M1361246816</td>\n",
       "      <td>0.00</td>\n",
       "      <td>0.00</td>\n",
       "      <td>0</td>\n",
       "      <td>0</td>\n",
       "    </tr>\n",
       "    <tr>\n",
       "      <th>99995</th>\n",
       "      <td>10</td>\n",
       "      <td>PAYMENT</td>\n",
       "      <td>4020.66</td>\n",
       "      <td>C1410794718</td>\n",
       "      <td>159929.00</td>\n",
       "      <td>155908.34</td>\n",
       "      <td>M1257036576</td>\n",
       "      <td>0.00</td>\n",
       "      <td>0.00</td>\n",
       "      <td>0</td>\n",
       "      <td>0</td>\n",
       "    </tr>\n",
       "    <tr>\n",
       "      <th>99996</th>\n",
       "      <td>10</td>\n",
       "      <td>PAYMENT</td>\n",
       "      <td>18345.49</td>\n",
       "      <td>C744303677</td>\n",
       "      <td>6206.00</td>\n",
       "      <td>0.00</td>\n",
       "      <td>M1785344556</td>\n",
       "      <td>0.00</td>\n",
       "      <td>0.00</td>\n",
       "      <td>0</td>\n",
       "      <td>0</td>\n",
       "    </tr>\n",
       "    <tr>\n",
       "      <th>99997</th>\n",
       "      <td>10</td>\n",
       "      <td>CASH_IN</td>\n",
       "      <td>183774.91</td>\n",
       "      <td>C104331851</td>\n",
       "      <td>39173.00</td>\n",
       "      <td>222947.91</td>\n",
       "      <td>C36392889</td>\n",
       "      <td>54925.05</td>\n",
       "      <td>0.00</td>\n",
       "      <td>0</td>\n",
       "      <td>0</td>\n",
       "    </tr>\n",
       "    <tr>\n",
       "      <th>99998</th>\n",
       "      <td>10</td>\n",
       "      <td>CASH_OUT</td>\n",
       "      <td>82237.17</td>\n",
       "      <td>C707662966</td>\n",
       "      <td>6031.00</td>\n",
       "      <td>0.00</td>\n",
       "      <td>C1553004158</td>\n",
       "      <td>592635.66</td>\n",
       "      <td>799140.46</td>\n",
       "      <td>0</td>\n",
       "      <td>0</td>\n",
       "    </tr>\n",
       "  </tbody>\n",
       "</table>\n",
       "<p>99999 rows × 11 columns</p>\n",
       "</div>"
      ],
      "text/plain": [
       "       step      type     amount     nameOrig  oldbalanceOrg  newbalanceOrig   \n",
       "0         1   PAYMENT    9839.64  C1231006815      170136.00       160296.36  \\\n",
       "1         1   PAYMENT    1864.28  C1666544295       21249.00        19384.72   \n",
       "2         1  TRANSFER     181.00  C1305486145         181.00            0.00   \n",
       "3         1  CASH_OUT     181.00   C840083671         181.00            0.00   \n",
       "4         1   PAYMENT   11668.14  C2048537720       41554.00        29885.86   \n",
       "...     ...       ...        ...          ...            ...             ...   \n",
       "99994    10   PAYMENT      62.19   C559473129      215097.09       215034.89   \n",
       "99995    10   PAYMENT    4020.66  C1410794718      159929.00       155908.34   \n",
       "99996    10   PAYMENT   18345.49   C744303677        6206.00            0.00   \n",
       "99997    10   CASH_IN  183774.91   C104331851       39173.00       222947.91   \n",
       "99998    10  CASH_OUT   82237.17   C707662966        6031.00            0.00   \n",
       "\n",
       "          nameDest  oldbalanceDest  newbalanceDest  isFraud  isFlaggedFraud  \n",
       "0      M1979787155            0.00            0.00        0               0  \n",
       "1      M2044282225            0.00            0.00        0               0  \n",
       "2       C553264065            0.00            0.00        1               0  \n",
       "3        C38997010        21182.00            0.00        1               0  \n",
       "4      M1230701703            0.00            0.00        0               0  \n",
       "...            ...             ...             ...      ...             ...  \n",
       "99994  M1361246816            0.00            0.00        0               0  \n",
       "99995  M1257036576            0.00            0.00        0               0  \n",
       "99996  M1785344556            0.00            0.00        0               0  \n",
       "99997    C36392889        54925.05            0.00        0               0  \n",
       "99998  C1553004158       592635.66       799140.46        0               0  \n",
       "\n",
       "[99999 rows x 11 columns]"
      ]
     },
     "execution_count": 3,
     "metadata": {},
     "output_type": "execute_result"
    }
   ],
   "source": [
    "df"
   ]
  },
  {
   "cell_type": "markdown",
   "id": "adfc5520",
   "metadata": {},
   "source": [
    "## 3) Data Preprocessing "
   ]
  },
  {
   "cell_type": "code",
   "execution_count": 4,
   "id": "3408078d",
   "metadata": {},
   "outputs": [
    {
     "name": "stdout",
     "output_type": "stream",
     "text": [
      "<class 'pandas.core.frame.DataFrame'>\n",
      "RangeIndex: 99999 entries, 0 to 99998\n",
      "Data columns (total 11 columns):\n",
      " #   Column          Non-Null Count  Dtype  \n",
      "---  ------          --------------  -----  \n",
      " 0   step            99999 non-null  int64  \n",
      " 1   type            99999 non-null  object \n",
      " 2   amount          99999 non-null  float64\n",
      " 3   nameOrig        99999 non-null  object \n",
      " 4   oldbalanceOrg   99999 non-null  float64\n",
      " 5   newbalanceOrig  99999 non-null  float64\n",
      " 6   nameDest        99999 non-null  object \n",
      " 7   oldbalanceDest  99999 non-null  float64\n",
      " 8   newbalanceDest  99999 non-null  float64\n",
      " 9   isFraud         99999 non-null  int64  \n",
      " 10  isFlaggedFraud  99999 non-null  int64  \n",
      "dtypes: float64(5), int64(3), object(3)\n",
      "memory usage: 8.4+ MB\n"
     ]
    }
   ],
   "source": [
    "# To see the information of the Dataset\n",
    "df.info()"
   ]
  },
  {
   "cell_type": "code",
   "execution_count": 5,
   "id": "adf58d17",
   "metadata": {},
   "outputs": [
    {
     "data": {
      "text/plain": [
       "step              0\n",
       "type              0\n",
       "amount            0\n",
       "nameOrig          0\n",
       "oldbalanceOrg     0\n",
       "newbalanceOrig    0\n",
       "nameDest          0\n",
       "oldbalanceDest    0\n",
       "newbalanceDest    0\n",
       "isFraud           0\n",
       "isFlaggedFraud    0\n",
       "dtype: int64"
      ]
     },
     "execution_count": 5,
     "metadata": {},
     "output_type": "execute_result"
    }
   ],
   "source": [
    "#To check if there is any null value in the dataset\n",
    "df.isnull().sum()"
   ]
  },
  {
   "cell_type": "code",
   "execution_count": 6,
   "id": "898d9d9a",
   "metadata": {},
   "outputs": [
    {
     "data": {
      "text/plain": [
       "(99999, 11)"
      ]
     },
     "execution_count": 6,
     "metadata": {},
     "output_type": "execute_result"
    }
   ],
   "source": [
    "#check shape of the entire dataframe using .shape attribute\n",
    "df.shape"
   ]
  },
  {
   "cell_type": "code",
   "execution_count": 7,
   "id": "4dc0dfb3",
   "metadata": {},
   "outputs": [
    {
     "data": {
      "text/plain": [
       "step                 10\n",
       "type                  5\n",
       "amount            99469\n",
       "nameOrig          99999\n",
       "oldbalanceOrg     56389\n",
       "newbalanceOrig    46427\n",
       "nameDest          51550\n",
       "oldbalanceDest    51976\n",
       "newbalanceDest    18759\n",
       "isFraud               2\n",
       "isFlaggedFraud        1\n",
       "dtype: int64"
      ]
     },
     "execution_count": 7,
     "metadata": {},
     "output_type": "execute_result"
    }
   ],
   "source": [
    "#To see the unique values in the dataset\n",
    "df.nunique()"
   ]
  },
  {
   "cell_type": "code",
   "execution_count": 8,
   "id": "c4d73a16",
   "metadata": {},
   "outputs": [
    {
     "data": {
      "text/plain": [
       "0"
      ]
     },
     "execution_count": 8,
     "metadata": {},
     "output_type": "execute_result"
    }
   ],
   "source": [
    "#To check the duplicate values in the dataset\n",
    "df.duplicated().sum()"
   ]
  },
  {
   "cell_type": "code",
   "execution_count": 9,
   "id": "fcb3d4c8",
   "metadata": {
    "scrolled": true
   },
   "outputs": [
    {
     "data": {
      "text/html": [
       "<div>\n",
       "<style scoped>\n",
       "    .dataframe tbody tr th:only-of-type {\n",
       "        vertical-align: middle;\n",
       "    }\n",
       "\n",
       "    .dataframe tbody tr th {\n",
       "        vertical-align: top;\n",
       "    }\n",
       "\n",
       "    .dataframe thead th {\n",
       "        text-align: right;\n",
       "    }\n",
       "</style>\n",
       "<table border=\"1\" class=\"dataframe\">\n",
       "  <thead>\n",
       "    <tr style=\"text-align: right;\">\n",
       "      <th></th>\n",
       "      <th>step</th>\n",
       "      <th>type</th>\n",
       "      <th>amount</th>\n",
       "      <th>nameOrig</th>\n",
       "      <th>oldbalanceOrg</th>\n",
       "      <th>newbalanceOrig</th>\n",
       "      <th>nameDest</th>\n",
       "      <th>oldbalanceDest</th>\n",
       "      <th>newbalanceDest</th>\n",
       "      <th>isFraud</th>\n",
       "      <th>isFlaggedFraud</th>\n",
       "    </tr>\n",
       "  </thead>\n",
       "  <tbody>\n",
       "    <tr>\n",
       "      <th>count</th>\n",
       "      <td>99999.000000</td>\n",
       "      <td>99999</td>\n",
       "      <td>9.999900e+04</td>\n",
       "      <td>99999</td>\n",
       "      <td>9.999900e+04</td>\n",
       "      <td>9.999900e+04</td>\n",
       "      <td>99999</td>\n",
       "      <td>9.999900e+04</td>\n",
       "      <td>9.999900e+04</td>\n",
       "      <td>99999.000000</td>\n",
       "      <td>99999.0</td>\n",
       "    </tr>\n",
       "    <tr>\n",
       "      <th>unique</th>\n",
       "      <td>NaN</td>\n",
       "      <td>5</td>\n",
       "      <td>NaN</td>\n",
       "      <td>99999</td>\n",
       "      <td>NaN</td>\n",
       "      <td>NaN</td>\n",
       "      <td>51550</td>\n",
       "      <td>NaN</td>\n",
       "      <td>NaN</td>\n",
       "      <td>NaN</td>\n",
       "      <td>NaN</td>\n",
       "    </tr>\n",
       "    <tr>\n",
       "      <th>top</th>\n",
       "      <td>NaN</td>\n",
       "      <td>PAYMENT</td>\n",
       "      <td>NaN</td>\n",
       "      <td>C1231006815</td>\n",
       "      <td>NaN</td>\n",
       "      <td>NaN</td>\n",
       "      <td>C985934102</td>\n",
       "      <td>NaN</td>\n",
       "      <td>NaN</td>\n",
       "      <td>NaN</td>\n",
       "      <td>NaN</td>\n",
       "    </tr>\n",
       "    <tr>\n",
       "      <th>freq</th>\n",
       "      <td>NaN</td>\n",
       "      <td>39511</td>\n",
       "      <td>NaN</td>\n",
       "      <td>1</td>\n",
       "      <td>NaN</td>\n",
       "      <td>NaN</td>\n",
       "      <td>78</td>\n",
       "      <td>NaN</td>\n",
       "      <td>NaN</td>\n",
       "      <td>NaN</td>\n",
       "      <td>NaN</td>\n",
       "    </tr>\n",
       "    <tr>\n",
       "      <th>mean</th>\n",
       "      <td>8.499625</td>\n",
       "      <td>NaN</td>\n",
       "      <td>1.736038e+05</td>\n",
       "      <td>NaN</td>\n",
       "      <td>8.777699e+05</td>\n",
       "      <td>8.940748e+05</td>\n",
       "      <td>NaN</td>\n",
       "      <td>8.805185e+05</td>\n",
       "      <td>1.184094e+06</td>\n",
       "      <td>0.001160</td>\n",
       "      <td>0.0</td>\n",
       "    </tr>\n",
       "    <tr>\n",
       "      <th>std</th>\n",
       "      <td>1.825548</td>\n",
       "      <td>NaN</td>\n",
       "      <td>3.443017e+05</td>\n",
       "      <td>NaN</td>\n",
       "      <td>2.673322e+06</td>\n",
       "      <td>2.711352e+06</td>\n",
       "      <td>NaN</td>\n",
       "      <td>2.402317e+06</td>\n",
       "      <td>2.802533e+06</td>\n",
       "      <td>0.034039</td>\n",
       "      <td>0.0</td>\n",
       "    </tr>\n",
       "    <tr>\n",
       "      <th>min</th>\n",
       "      <td>1.000000</td>\n",
       "      <td>NaN</td>\n",
       "      <td>3.200000e-01</td>\n",
       "      <td>NaN</td>\n",
       "      <td>0.000000e+00</td>\n",
       "      <td>0.000000e+00</td>\n",
       "      <td>NaN</td>\n",
       "      <td>0.000000e+00</td>\n",
       "      <td>0.000000e+00</td>\n",
       "      <td>0.000000</td>\n",
       "      <td>0.0</td>\n",
       "    </tr>\n",
       "    <tr>\n",
       "      <th>25%</th>\n",
       "      <td>8.000000</td>\n",
       "      <td>NaN</td>\n",
       "      <td>9.963495e+03</td>\n",
       "      <td>NaN</td>\n",
       "      <td>0.000000e+00</td>\n",
       "      <td>0.000000e+00</td>\n",
       "      <td>NaN</td>\n",
       "      <td>0.000000e+00</td>\n",
       "      <td>0.000000e+00</td>\n",
       "      <td>0.000000</td>\n",
       "      <td>0.0</td>\n",
       "    </tr>\n",
       "    <tr>\n",
       "      <th>50%</th>\n",
       "      <td>9.000000</td>\n",
       "      <td>NaN</td>\n",
       "      <td>5.275432e+04</td>\n",
       "      <td>NaN</td>\n",
       "      <td>2.006100e+04</td>\n",
       "      <td>0.000000e+00</td>\n",
       "      <td>NaN</td>\n",
       "      <td>2.083986e+04</td>\n",
       "      <td>4.990918e+04</td>\n",
       "      <td>0.000000</td>\n",
       "      <td>0.0</td>\n",
       "    </tr>\n",
       "    <tr>\n",
       "      <th>75%</th>\n",
       "      <td>10.000000</td>\n",
       "      <td>NaN</td>\n",
       "      <td>2.117667e+05</td>\n",
       "      <td>NaN</td>\n",
       "      <td>1.902150e+05</td>\n",
       "      <td>2.148176e+05</td>\n",
       "      <td>NaN</td>\n",
       "      <td>5.882787e+05</td>\n",
       "      <td>1.058208e+06</td>\n",
       "      <td>0.000000</td>\n",
       "      <td>0.0</td>\n",
       "    </tr>\n",
       "    <tr>\n",
       "      <th>max</th>\n",
       "      <td>10.000000</td>\n",
       "      <td>NaN</td>\n",
       "      <td>1.000000e+07</td>\n",
       "      <td>NaN</td>\n",
       "      <td>3.380000e+07</td>\n",
       "      <td>3.400000e+07</td>\n",
       "      <td>NaN</td>\n",
       "      <td>3.400000e+07</td>\n",
       "      <td>3.890000e+07</td>\n",
       "      <td>1.000000</td>\n",
       "      <td>0.0</td>\n",
       "    </tr>\n",
       "  </tbody>\n",
       "</table>\n",
       "</div>"
      ],
      "text/plain": [
       "                step     type        amount     nameOrig  oldbalanceOrg   \n",
       "count   99999.000000    99999  9.999900e+04        99999   9.999900e+04  \\\n",
       "unique           NaN        5           NaN        99999            NaN   \n",
       "top              NaN  PAYMENT           NaN  C1231006815            NaN   \n",
       "freq             NaN    39511           NaN            1            NaN   \n",
       "mean        8.499625      NaN  1.736038e+05          NaN   8.777699e+05   \n",
       "std         1.825548      NaN  3.443017e+05          NaN   2.673322e+06   \n",
       "min         1.000000      NaN  3.200000e-01          NaN   0.000000e+00   \n",
       "25%         8.000000      NaN  9.963495e+03          NaN   0.000000e+00   \n",
       "50%         9.000000      NaN  5.275432e+04          NaN   2.006100e+04   \n",
       "75%        10.000000      NaN  2.117667e+05          NaN   1.902150e+05   \n",
       "max        10.000000      NaN  1.000000e+07          NaN   3.380000e+07   \n",
       "\n",
       "        newbalanceOrig    nameDest  oldbalanceDest  newbalanceDest   \n",
       "count     9.999900e+04       99999    9.999900e+04    9.999900e+04  \\\n",
       "unique             NaN       51550             NaN             NaN   \n",
       "top                NaN  C985934102             NaN             NaN   \n",
       "freq               NaN          78             NaN             NaN   \n",
       "mean      8.940748e+05         NaN    8.805185e+05    1.184094e+06   \n",
       "std       2.711352e+06         NaN    2.402317e+06    2.802533e+06   \n",
       "min       0.000000e+00         NaN    0.000000e+00    0.000000e+00   \n",
       "25%       0.000000e+00         NaN    0.000000e+00    0.000000e+00   \n",
       "50%       0.000000e+00         NaN    2.083986e+04    4.990918e+04   \n",
       "75%       2.148176e+05         NaN    5.882787e+05    1.058208e+06   \n",
       "max       3.400000e+07         NaN    3.400000e+07    3.890000e+07   \n",
       "\n",
       "             isFraud  isFlaggedFraud  \n",
       "count   99999.000000         99999.0  \n",
       "unique           NaN             NaN  \n",
       "top              NaN             NaN  \n",
       "freq             NaN             NaN  \n",
       "mean        0.001160             0.0  \n",
       "std         0.034039             0.0  \n",
       "min         0.000000             0.0  \n",
       "25%         0.000000             0.0  \n",
       "50%         0.000000             0.0  \n",
       "75%         0.000000             0.0  \n",
       "max         1.000000             0.0  "
      ]
     },
     "execution_count": 9,
     "metadata": {},
     "output_type": "execute_result"
    }
   ],
   "source": [
    "# To Check the describe analysis of the data\n",
    "df.describe(include=\"all\")"
   ]
  },
  {
   "cell_type": "markdown",
   "id": "2ea9747d",
   "metadata": {},
   "source": [
    "# Outliers detection\n",
    "    we have to remove this outliers in data frame. because outliers make a data leakage in model  train and  test \n",
    "    so we have  remove this outliers in data frame"
   ]
  },
  {
   "cell_type": "code",
   "execution_count": 10,
   "id": "ae0cae1a",
   "metadata": {},
   "outputs": [
    {
     "data": {
      "image/png": "[encoded data removed]",
      "text/plain": [
       "<Figure size 1200x1000 with 1 Axes>"
      ]
     },
     "metadata": {},
     "output_type": "display_data"
    }
   ],
   "source": [
    "plt.figure(figsize=(12,10)) \n",
    "sns.boxplot(df)\n",
    "plt.show()"
   ]
  },
  {
   "cell_type": "code",
   "execution_count": 11,
   "id": "f1a99f9f",
   "metadata": {},
   "outputs": [
    {
     "data": {
      "text/plain": [
       "Index(['step', 'type', 'amount', 'nameOrig', 'oldbalanceOrg', 'newbalanceOrig',\n",
       "       'nameDest', 'oldbalanceDest', 'newbalanceDest', 'isFraud',\n",
       "       'isFlaggedFraud'],\n",
       "      dtype='object')"
      ]
     },
     "execution_count": 11,
     "metadata": {},
     "output_type": "execute_result"
    }
   ],
   "source": [
    "df.columns"
   ]
  },
  {
   "cell_type": "code",
   "execution_count": 12,
   "id": "8e2cba8a",
   "metadata": {},
   "outputs": [
    {
     "name": "stdout",
     "output_type": "stream",
     "text": [
      "q1 = 8.0\n",
      "q3 = 10.0\n",
      "IQR = 2.0\n",
      "lower_range = 5.0\n",
      "upper_range = 12.0\n"
     ]
    }
   ],
   "source": [
    "#handling outlier in step\n",
    "q1=df['step'].quantile(0.25)\n",
    "q3=df['step'].quantile(0.75)\n",
    "IQR=q3-q1\n",
    "lower_range=q1-1.5*IQR\n",
    "upper_range=q3+IQR \n",
    "\n",
    "print(f\"q1 = {q1}\\nq3 = {q3}\\nIQR = {IQR}\\nlower_range = {lower_range}\\nupper_range = {upper_range}\")"
   ]
  },
  {
   "cell_type": "code",
   "execution_count": 13,
   "id": "1d786cfd",
   "metadata": {},
   "outputs": [
    {
     "data": {
      "text/plain": [
       "0         5.0\n",
       "1         5.0\n",
       "2         5.0\n",
       "3         5.0\n",
       "4         5.0\n",
       "         ... \n",
       "99994    10.0\n",
       "99995    10.0\n",
       "99996    10.0\n",
       "99997    10.0\n",
       "99998    10.0\n",
       "Name: step, Length: 99999, dtype: float64"
      ]
     },
     "execution_count": 13,
     "metadata": {},
     "output_type": "execute_result"
    }
   ],
   "source": [
    "#capping\n",
    "df['step']=np.where(df['step']<lower_range,lower_range,\n",
    "                      np.where(df['step']>upper_range,upper_range,\n",
    "                      df['step']))\n",
    "df['step']"
   ]
  },
  {
   "cell_type": "code",
   "execution_count": 14,
   "id": "83544694",
   "metadata": {},
   "outputs": [
    {
     "name": "stdout",
     "output_type": "stream",
     "text": [
      "q1 = 9963.494999999999\n",
      "q3 = 211766.66999999998\n",
      "IQR = 201803.175\n",
      "lower_range = -292741.26749999996\n",
      "upper_range = 413569.845\n"
     ]
    }
   ],
   "source": [
    "#handling outlier in step\n",
    "q1=df['amount'].quantile(0.25)\n",
    "q3=df['amount'].quantile(0.75)\n",
    "IQR=q3-q1\n",
    "lower_range=q1-1.5*IQR\n",
    "upper_range=q3+IQR \n",
    "\n",
    "print(f\"q1 = {q1}\\nq3 = {q3}\\nIQR = {IQR}\\nlower_range = {lower_range}\\nupper_range = {upper_range}\")"
   ]
  },
  {
   "cell_type": "code",
   "execution_count": 15,
   "id": "63c72386",
   "metadata": {},
   "outputs": [
    {
     "data": {
      "text/plain": [
       "0          9839.64\n",
       "1          1864.28\n",
       "2           181.00\n",
       "3           181.00\n",
       "4         11668.14\n",
       "           ...    \n",
       "99994        62.19\n",
       "99995      4020.66\n",
       "99996     18345.49\n",
       "99997    183774.91\n",
       "99998     82237.17\n",
       "Name: amount, Length: 99999, dtype: float64"
      ]
     },
     "execution_count": 15,
     "metadata": {},
     "output_type": "execute_result"
    }
   ],
   "source": [
    "#capping\n",
    "df['amount']=np.where(df['amount']<lower_range,lower_range,\n",
    "                      np.where(df['amount']>upper_range,upper_range,\n",
    "                      df['amount']))\n",
    "df['amount']"
   ]
  },
  {
   "cell_type": "code",
   "execution_count": 16,
   "id": "f51c82b5",
   "metadata": {},
   "outputs": [
    {
     "name": "stdout",
     "output_type": "stream",
     "text": [
      "q1 = 0.0\n",
      "q3 = 190214.99\n",
      "IQR = 190214.99\n",
      "lower_range = -285322.485\n",
      "upper_range = 380429.98\n"
     ]
    }
   ],
   "source": [
    "#handling outlier in step\n",
    "q1=df['oldbalanceOrg'].quantile(0.25)\n",
    "q3=df['oldbalanceOrg'].quantile(0.75)\n",
    "IQR=q3-q1\n",
    "lower_range=q1-1.5*IQR\n",
    "upper_range=q3+IQR \n",
    "\n",
    "print(f\"q1 = {q1}\\nq3 = {q3}\\nIQR = {IQR}\\nlower_range = {lower_range}\\nupper_range = {upper_range}\")"
   ]
  },
  {
   "cell_type": "code",
   "execution_count": 17,
   "id": "714c1140",
   "metadata": {},
   "outputs": [
    {
     "data": {
      "text/plain": [
       "0        170136.00\n",
       "1         21249.00\n",
       "2           181.00\n",
       "3           181.00\n",
       "4         41554.00\n",
       "           ...    \n",
       "99994    215097.09\n",
       "99995    159929.00\n",
       "99996      6206.00\n",
       "99997     39173.00\n",
       "99998      6031.00\n",
       "Name: oldbalanceOrg, Length: 99999, dtype: float64"
      ]
     },
     "execution_count": 17,
     "metadata": {},
     "output_type": "execute_result"
    }
   ],
   "source": [
    "#capping\n",
    "df['oldbalanceOrg']=np.where(df['oldbalanceOrg']<lower_range,lower_range,\n",
    "                      np.where(df['oldbalanceOrg']>upper_range,upper_range,\n",
    "                      df['oldbalanceOrg']))\n",
    "df['oldbalanceOrg']"
   ]
  },
  {
   "cell_type": "code",
   "execution_count": 18,
   "id": "ca185d7f",
   "metadata": {},
   "outputs": [
    {
     "name": "stdout",
     "output_type": "stream",
     "text": [
      "q1 = 0.0\n",
      "q3 = 214817.59999999998\n",
      "IQR = 214817.59999999998\n",
      "lower_range = -322226.39999999997\n",
      "upper_range = 429635.19999999995\n"
     ]
    }
   ],
   "source": [
    "#handling outlier in step\n",
    "q1=df['newbalanceOrig'].quantile(0.25)\n",
    "q3=df['newbalanceOrig'].quantile(0.75)\n",
    "IQR=q3-q1\n",
    "lower_range=q1-1.5*IQR\n",
    "upper_range=q3+IQR \n",
    "\n",
    "print(f\"q1 = {q1}\\nq3 = {q3}\\nIQR = {IQR}\\nlower_range = {lower_range}\\nupper_range = {upper_range}\")"
   ]
  },
  {
   "cell_type": "code",
   "execution_count": 19,
   "id": "e94ae63e",
   "metadata": {},
   "outputs": [
    {
     "data": {
      "text/plain": [
       "0        160296.36\n",
       "1         19384.72\n",
       "2             0.00\n",
       "3             0.00\n",
       "4         29885.86\n",
       "           ...    \n",
       "99994    215034.89\n",
       "99995    155908.34\n",
       "99996         0.00\n",
       "99997    222947.91\n",
       "99998         0.00\n",
       "Name: newbalanceOrig, Length: 99999, dtype: float64"
      ]
     },
     "execution_count": 19,
     "metadata": {},
     "output_type": "execute_result"
    }
   ],
   "source": [
    "#capping\n",
    "df['newbalanceOrig']=np.where(df['newbalanceOrig']<lower_range,lower_range,\n",
    "                      np.where(df['newbalanceOrig']>upper_range,upper_range,\n",
    "                      df['newbalanceOrig']))\n",
    "df['newbalanceOrig']"
   ]
  },
  {
   "cell_type": "code",
   "execution_count": 20,
   "id": "fb76c04f",
   "metadata": {},
   "outputs": [
    {
     "name": "stdout",
     "output_type": "stream",
     "text": [
      "q1 = 0.0\n",
      "q3 = 588278.6799999999\n",
      "IQR = 588278.6799999999\n",
      "lower_range = -882418.0199999999\n",
      "upper_range = 1176557.3599999999\n"
     ]
    }
   ],
   "source": [
    "#handling outlier in step\n",
    "q1=df['oldbalanceDest'].quantile(0.25)\n",
    "q3=df['oldbalanceDest'].quantile(0.75)\n",
    "IQR=q3-q1\n",
    "lower_range=q1-1.5*IQR\n",
    "upper_range=q3+IQR \n",
    "\n",
    "print(f\"q1 = {q1}\\nq3 = {q3}\\nIQR = {IQR}\\nlower_range = {lower_range}\\nupper_range = {upper_range}\")"
   ]
  },
  {
   "cell_type": "code",
   "execution_count": 21,
   "id": "dab3b8d6",
   "metadata": {},
   "outputs": [
    {
     "data": {
      "text/plain": [
       "0             0.00\n",
       "1             0.00\n",
       "2             0.00\n",
       "3         21182.00\n",
       "4             0.00\n",
       "           ...    \n",
       "99994         0.00\n",
       "99995         0.00\n",
       "99996         0.00\n",
       "99997     54925.05\n",
       "99998    592635.66\n",
       "Name: oldbalanceDest, Length: 99999, dtype: float64"
      ]
     },
     "execution_count": 21,
     "metadata": {},
     "output_type": "execute_result"
    }
   ],
   "source": [
    "#capping\n",
    "df['oldbalanceDest']=np.where(df['oldbalanceDest']<lower_range,lower_range,\n",
    "                      np.where(df['oldbalanceDest']>upper_range,upper_range,\n",
    "                      df['oldbalanceDest']))\n",
    "df['oldbalanceDest']"
   ]
  },
  {
   "cell_type": "code",
   "execution_count": 22,
   "id": "2faaf7b9",
   "metadata": {},
   "outputs": [
    {
     "name": "stdout",
     "output_type": "stream",
     "text": [
      "q1 = 0.0\n",
      "q3 = 1058207.96\n",
      "IQR = 1058207.96\n",
      "lower_range = -1587311.94\n",
      "upper_range = 2116415.92\n"
     ]
    }
   ],
   "source": [
    "#handling outlier in step\n",
    "q1=df['newbalanceDest'].quantile(0.25)\n",
    "q3=df['newbalanceDest'].quantile(0.75)\n",
    "IQR=q3-q1\n",
    "lower_range=q1-1.5*IQR\n",
    "upper_range=q3+IQR \n",
    "\n",
    "print(f\"q1 = {q1}\\nq3 = {q3}\\nIQR = {IQR}\\nlower_range = {lower_range}\\nupper_range = {upper_range}\")"
   ]
  },
  {
   "cell_type": "code",
   "execution_count": 23,
   "id": "2a93de8a",
   "metadata": {},
   "outputs": [
    {
     "data": {
      "text/plain": [
       "0             0.00\n",
       "1             0.00\n",
       "2             0.00\n",
       "3             0.00\n",
       "4             0.00\n",
       "           ...    \n",
       "99994         0.00\n",
       "99995         0.00\n",
       "99996         0.00\n",
       "99997         0.00\n",
       "99998    799140.46\n",
       "Name: newbalanceDest, Length: 99999, dtype: float64"
      ]
     },
     "execution_count": 23,
     "metadata": {},
     "output_type": "execute_result"
    }
   ],
   "source": [
    "#capping\n",
    "df['newbalanceDest']=np.where(df['newbalanceDest']<lower_range,lower_range,\n",
    "                      np.where(df['newbalanceDest']>upper_range,upper_range,\n",
    "                      df['newbalanceDest']))\n",
    "df['newbalanceDest']"
   ]
  },
  {
   "cell_type": "code",
   "execution_count": 24,
   "id": "a1ad3bec",
   "metadata": {},
   "outputs": [
    {
     "name": "stdout",
     "output_type": "stream",
     "text": [
      "q1 = 0.0\n",
      "q3 = 0.0\n",
      "IQR = 0.0\n",
      "lower_range = 0.0\n",
      "upper_range = 0.0\n"
     ]
    }
   ],
   "source": [
    "#handling outlier in step\n",
    "q1=df['isFraud'].quantile(0.25)\n",
    "q3=df['isFraud'].quantile(0.75)\n",
    "IQR=q3-q1\n",
    "lower_range=q1-1.5*IQR\n",
    "upper_range=q3+IQR \n",
    "\n",
    "print(f\"q1 = {q1}\\nq3 = {q3}\\nIQR = {IQR}\\nlower_range = {lower_range}\\nupper_range = {upper_range}\")"
   ]
  },
  {
   "cell_type": "code",
   "execution_count": 25,
   "id": "6a9c26af",
   "metadata": {},
   "outputs": [
    {
     "data": {
      "text/plain": [
       "0        0.0\n",
       "1        0.0\n",
       "2        0.0\n",
       "3        0.0\n",
       "4        0.0\n",
       "        ... \n",
       "99994    0.0\n",
       "99995    0.0\n",
       "99996    0.0\n",
       "99997    0.0\n",
       "99998    0.0\n",
       "Name: isFraud, Length: 99999, dtype: float64"
      ]
     },
     "execution_count": 25,
     "metadata": {},
     "output_type": "execute_result"
    }
   ],
   "source": [
    "#capping\n",
    "df['isFraud']=np.where(df['isFraud']<lower_range,lower_range,\n",
    "                      np.where(df['isFraud']>upper_range,upper_range,\n",
    "                      df['isFraud']))\n",
    "df['isFraud']"
   ]
  },
  {
   "cell_type": "code",
   "execution_count": 26,
   "id": "4ae8f236",
   "metadata": {
    "scrolled": false
   },
   "outputs": [
    {
     "data": {
      "image/png": "[encoded data removed]",
      "text/plain": [
       "<Figure size 700x400 with 1 Axes>"
      ]
     },
     "metadata": {},
     "output_type": "display_data"
    },
    {
     "data": {
      "image/png": "[encoded data removed]",
      "text/plain": [
       "<Figure size 700x400 with 1 Axes>"
      ]
     },
     "metadata": {},
     "output_type": "display_data"
    },
    {
     "data": {
      "image/png": "[encoded data removed]",
      "text/plain": [
       "<Figure size 700x400 with 1 Axes>"
      ]
     },
     "metadata": {},
     "output_type": "display_data"
    },
    {
     "data": {
      "image/png": "[encoded data removed]",
      "text/plain": [
       "<Figure size 700x400 with 1 Axes>"
      ]
     },
     "metadata": {},
     "output_type": "display_data"
    },
    {
     "data": {
      "image/png": "[encoded data removed]",
      "text/plain": [
       "<Figure size 700x400 with 1 Axes>"
      ]
     },
     "metadata": {},
     "output_type": "display_data"
    },
    {
     "data": {
      "image/png": "[encoded data removed]",
      "text/plain": [
       "<Figure size 700x400 with 1 Axes>"
      ]
     },
     "metadata": {},
     "output_type": "display_data"
    },
    {
     "data": {
      "image/png": "[encoded data removed]",
      "text/plain": [
       "<Figure size 700x400 with 1 Axes>"
      ]
     },
     "metadata": {},
     "output_type": "display_data"
    }
   ],
   "source": [
    "#Using box plot for finding outliers\n",
    "\n",
    "plt.figure(figsize=(7,4))\n",
    "sns.boxplot(df['step'])\n",
    "plt.title('step')\n",
    "\n",
    "plt.figure(figsize=(7,4))\n",
    "sns.boxplot(df['amount'])\n",
    "plt.title('amount')\n",
    "\n",
    "\n",
    "plt.figure(figsize=(7,4))\n",
    "sns.boxplot(df['oldbalanceOrg'])\n",
    "plt.title('oldbalanceOrg')\n",
    "\n",
    "plt.figure(figsize=(7,4))\n",
    "sns.boxplot(df['newbalanceOrig'])\n",
    "plt.title('newbalanceOrig')\n",
    "\n",
    "\n",
    "plt.figure(figsize=(7,4))\n",
    "sns.boxplot(df['oldbalanceDest'])\n",
    "plt.title('oldbalanceDest')\n",
    "\n",
    "plt.figure(figsize=(7,4))\n",
    "sns.boxplot(df['newbalanceDest'])\n",
    "plt.title('newbalanceDest')\n",
    "\n",
    "plt.figure(figsize=(7,4))\n",
    "sns.boxplot(df['isFraud'])\n",
    "plt.title('isFraud')\n",
    "\n",
    "\n",
    "\n",
    "plt.show()"
   ]
  },
  {
   "cell_type": "markdown",
   "id": "b3db30cf",
   "metadata": {},
   "source": [
    "## 4) Feature Engineering\n",
    "\n",
    "   |Feature Engineering is the process of extracting and organizing the important feature from raw data \n",
    "      in such a way that if fits the purpose of the machine learning model.|"
   ]
  },
  {
   "cell_type": "code",
   "execution_count": 27,
   "id": "9774db7b",
   "metadata": {},
   "outputs": [],
   "source": [
    "# Target and Labels\n",
    "df.copy()\n",
    "X =df.drop(['isFraud','isFlaggedFraud'],axis=1).copy()\n",
    "Y =df['isFraud'].copy()\n",
    "\n"
   ]
  },
  {
   "cell_type": "code",
   "execution_count": 28,
   "id": "64573265",
   "metadata": {},
   "outputs": [
    {
     "data": {
      "text/html": [
       "<div>\n",
       "<style scoped>\n",
       "    .dataframe tbody tr th:only-of-type {\n",
       "        vertical-align: middle;\n",
       "    }\n",
       "\n",
       "    .dataframe tbody tr th {\n",
       "        vertical-align: top;\n",
       "    }\n",
       "\n",
       "    .dataframe thead th {\n",
       "        text-align: right;\n",
       "    }\n",
       "</style>\n",
       "<table border=\"1\" class=\"dataframe\">\n",
       "  <thead>\n",
       "    <tr style=\"text-align: right;\">\n",
       "      <th></th>\n",
       "      <th>step</th>\n",
       "      <th>type</th>\n",
       "      <th>amount</th>\n",
       "      <th>nameOrig</th>\n",
       "      <th>oldbalanceOrg</th>\n",
       "      <th>newbalanceOrig</th>\n",
       "      <th>nameDest</th>\n",
       "      <th>oldbalanceDest</th>\n",
       "      <th>newbalanceDest</th>\n",
       "    </tr>\n",
       "  </thead>\n",
       "  <tbody>\n",
       "    <tr>\n",
       "      <th>0</th>\n",
       "      <td>5.0</td>\n",
       "      <td>PAYMENT</td>\n",
       "      <td>9839.64</td>\n",
       "      <td>C1231006815</td>\n",
       "      <td>170136.00</td>\n",
       "      <td>160296.36</td>\n",
       "      <td>M1979787155</td>\n",
       "      <td>0.00</td>\n",
       "      <td>0.00</td>\n",
       "    </tr>\n",
       "    <tr>\n",
       "      <th>1</th>\n",
       "      <td>5.0</td>\n",
       "      <td>PAYMENT</td>\n",
       "      <td>1864.28</td>\n",
       "      <td>C1666544295</td>\n",
       "      <td>21249.00</td>\n",
       "      <td>19384.72</td>\n",
       "      <td>M2044282225</td>\n",
       "      <td>0.00</td>\n",
       "      <td>0.00</td>\n",
       "    </tr>\n",
       "    <tr>\n",
       "      <th>2</th>\n",
       "      <td>5.0</td>\n",
       "      <td>TRANSFER</td>\n",
       "      <td>181.00</td>\n",
       "      <td>C1305486145</td>\n",
       "      <td>181.00</td>\n",
       "      <td>0.00</td>\n",
       "      <td>C553264065</td>\n",
       "      <td>0.00</td>\n",
       "      <td>0.00</td>\n",
       "    </tr>\n",
       "    <tr>\n",
       "      <th>3</th>\n",
       "      <td>5.0</td>\n",
       "      <td>CASH_OUT</td>\n",
       "      <td>181.00</td>\n",
       "      <td>C840083671</td>\n",
       "      <td>181.00</td>\n",
       "      <td>0.00</td>\n",
       "      <td>C38997010</td>\n",
       "      <td>21182.00</td>\n",
       "      <td>0.00</td>\n",
       "    </tr>\n",
       "    <tr>\n",
       "      <th>4</th>\n",
       "      <td>5.0</td>\n",
       "      <td>PAYMENT</td>\n",
       "      <td>11668.14</td>\n",
       "      <td>C2048537720</td>\n",
       "      <td>41554.00</td>\n",
       "      <td>29885.86</td>\n",
       "      <td>M1230701703</td>\n",
       "      <td>0.00</td>\n",
       "      <td>0.00</td>\n",
       "    </tr>\n",
       "    <tr>\n",
       "      <th>...</th>\n",
       "      <td>...</td>\n",
       "      <td>...</td>\n",
       "      <td>...</td>\n",
       "      <td>...</td>\n",
       "      <td>...</td>\n",
       "      <td>...</td>\n",
       "      <td>...</td>\n",
       "      <td>...</td>\n",
       "      <td>...</td>\n",
       "    </tr>\n",
       "    <tr>\n",
       "      <th>99994</th>\n",
       "      <td>10.0</td>\n",
       "      <td>PAYMENT</td>\n",
       "      <td>62.19</td>\n",
       "      <td>C559473129</td>\n",
       "      <td>215097.09</td>\n",
       "      <td>215034.89</td>\n",
       "      <td>M1361246816</td>\n",
       "      <td>0.00</td>\n",
       "      <td>0.00</td>\n",
       "    </tr>\n",
       "    <tr>\n",
       "      <th>99995</th>\n",
       "      <td>10.0</td>\n",
       "      <td>PAYMENT</td>\n",
       "      <td>4020.66</td>\n",
       "      <td>C1410794718</td>\n",
       "      <td>159929.00</td>\n",
       "      <td>155908.34</td>\n",
       "      <td>M1257036576</td>\n",
       "      <td>0.00</td>\n",
       "      <td>0.00</td>\n",
       "    </tr>\n",
       "    <tr>\n",
       "      <th>99996</th>\n",
       "      <td>10.0</td>\n",
       "      <td>PAYMENT</td>\n",
       "      <td>18345.49</td>\n",
       "      <td>C744303677</td>\n",
       "      <td>6206.00</td>\n",
       "      <td>0.00</td>\n",
       "      <td>M1785344556</td>\n",
       "      <td>0.00</td>\n",
       "      <td>0.00</td>\n",
       "    </tr>\n",
       "    <tr>\n",
       "      <th>99997</th>\n",
       "      <td>10.0</td>\n",
       "      <td>CASH_IN</td>\n",
       "      <td>183774.91</td>\n",
       "      <td>C104331851</td>\n",
       "      <td>39173.00</td>\n",
       "      <td>222947.91</td>\n",
       "      <td>C36392889</td>\n",
       "      <td>54925.05</td>\n",
       "      <td>0.00</td>\n",
       "    </tr>\n",
       "    <tr>\n",
       "      <th>99998</th>\n",
       "      <td>10.0</td>\n",
       "      <td>CASH_OUT</td>\n",
       "      <td>82237.17</td>\n",
       "      <td>C707662966</td>\n",
       "      <td>6031.00</td>\n",
       "      <td>0.00</td>\n",
       "      <td>C1553004158</td>\n",
       "      <td>592635.66</td>\n",
       "      <td>799140.46</td>\n",
       "    </tr>\n",
       "  </tbody>\n",
       "</table>\n",
       "<p>99999 rows × 9 columns</p>\n",
       "</div>"
      ],
      "text/plain": [
       "       step      type     amount     nameOrig  oldbalanceOrg  newbalanceOrig   \n",
       "0       5.0   PAYMENT    9839.64  C1231006815      170136.00       160296.36  \\\n",
       "1       5.0   PAYMENT    1864.28  C1666544295       21249.00        19384.72   \n",
       "2       5.0  TRANSFER     181.00  C1305486145         181.00            0.00   \n",
       "3       5.0  CASH_OUT     181.00   C840083671         181.00            0.00   \n",
       "4       5.0   PAYMENT   11668.14  C2048537720       41554.00        29885.86   \n",
       "...     ...       ...        ...          ...            ...             ...   \n",
       "99994  10.0   PAYMENT      62.19   C559473129      215097.09       215034.89   \n",
       "99995  10.0   PAYMENT    4020.66  C1410794718      159929.00       155908.34   \n",
       "99996  10.0   PAYMENT   18345.49   C744303677        6206.00            0.00   \n",
       "99997  10.0   CASH_IN  183774.91   C104331851       39173.00       222947.91   \n",
       "99998  10.0  CASH_OUT   82237.17   C707662966        6031.00            0.00   \n",
       "\n",
       "          nameDest  oldbalanceDest  newbalanceDest  \n",
       "0      M1979787155            0.00            0.00  \n",
       "1      M2044282225            0.00            0.00  \n",
       "2       C553264065            0.00            0.00  \n",
       "3        C38997010        21182.00            0.00  \n",
       "4      M1230701703            0.00            0.00  \n",
       "...            ...             ...             ...  \n",
       "99994  M1361246816            0.00            0.00  \n",
       "99995  M1257036576            0.00            0.00  \n",
       "99996  M1785344556            0.00            0.00  \n",
       "99997    C36392889        54925.05            0.00  \n",
       "99998  C1553004158       592635.66       799140.46  \n",
       "\n",
       "[99999 rows x 9 columns]"
      ]
     },
     "execution_count": 28,
     "metadata": {},
     "output_type": "execute_result"
    }
   ],
   "source": [
    "X"
   ]
  },
  {
   "cell_type": "code",
   "execution_count": 29,
   "id": "5bc9e927",
   "metadata": {},
   "outputs": [
    {
     "data": {
      "text/plain": [
       "0        0.0\n",
       "1        0.0\n",
       "2        0.0\n",
       "3        0.0\n",
       "4        0.0\n",
       "        ... \n",
       "99994    0.0\n",
       "99995    0.0\n",
       "99996    0.0\n",
       "99997    0.0\n",
       "99998    0.0\n",
       "Name: isFraud, Length: 99999, dtype: float64"
      ]
     },
     "execution_count": 29,
     "metadata": {},
     "output_type": "execute_result"
    }
   ],
   "source": [
    "Y"
   ]
  },
  {
   "cell_type": "markdown",
   "id": "af37eb84",
   "metadata": {},
   "source": [
    "    - *The above method seperates the features and labels from the data. The label variable are copied into y\n",
    "      and the remaining features are copied into x.*"
   ]
  },
  {
   "cell_type": "markdown",
   "id": "6dd10a4a",
   "metadata": {},
   "source": [
    "# Feature Encoding\n",
    "\n",
    "  - Feature encoding is the process of transforming the categoriacl datas into numercial data. By transforming \n",
    "    the data our machine learning model can understand the data"
   ]
  },
  {
   "cell_type": "code",
   "execution_count": 30,
   "id": "a8070d99",
   "metadata": {},
   "outputs": [],
   "source": [
    "from sklearn.preprocessing import OrdinalEncoder\n",
    "from sklearn.model_selection import train_test_split"
   ]
  },
  {
   "cell_type": "code",
   "execution_count": 31,
   "id": "8053df46",
   "metadata": {},
   "outputs": [],
   "source": [
    "# Encoding feature\n",
    "encoder =OrdinalEncoder()\n",
    "X_encode=encoder.fit(X)\n",
    "import joblib as jb\n",
    "jb.dump(X_encode,'file/train/model/train_encode_model.pkl')\n",
    "X_encode=encoder.transform(X)\n",
    "X=pd.DataFrame(X_encode, columns=X.columns)"
   ]
  },
  {
   "cell_type": "code",
   "execution_count": 32,
   "id": "02b39494",
   "metadata": {},
   "outputs": [
    {
     "data": {
      "text/html": [
       "<div>\n",
       "<style scoped>\n",
       "    .dataframe tbody tr th:only-of-type {\n",
       "        vertical-align: middle;\n",
       "    }\n",
       "\n",
       "    .dataframe tbody tr th {\n",
       "        vertical-align: top;\n",
       "    }\n",
       "\n",
       "    .dataframe thead th {\n",
       "        text-align: right;\n",
       "    }\n",
       "</style>\n",
       "<table border=\"1\" class=\"dataframe\">\n",
       "  <thead>\n",
       "    <tr style=\"text-align: right;\">\n",
       "      <th></th>\n",
       "      <th>step</th>\n",
       "      <th>type</th>\n",
       "      <th>amount</th>\n",
       "      <th>nameOrig</th>\n",
       "      <th>oldbalanceOrg</th>\n",
       "      <th>newbalanceOrig</th>\n",
       "      <th>nameDest</th>\n",
       "      <th>oldbalanceDest</th>\n",
       "      <th>newbalanceDest</th>\n",
       "    </tr>\n",
       "  </thead>\n",
       "  <tbody>\n",
       "    <tr>\n",
       "      <th>0</th>\n",
       "      <td>0.0</td>\n",
       "      <td>3.0</td>\n",
       "      <td>24421.0</td>\n",
       "      <td>11862.0</td>\n",
       "      <td>32299.0</td>\n",
       "      <td>20605.0</td>\n",
       "      <td>31980.0</td>\n",
       "      <td>0.0</td>\n",
       "      <td>0.0</td>\n",
       "    </tr>\n",
       "    <tr>\n",
       "      <th>1</th>\n",
       "      <td>0.0</td>\n",
       "      <td>3.0</td>\n",
       "      <td>5274.0</td>\n",
       "      <td>34345.0</td>\n",
       "      <td>12041.0</td>\n",
       "      <td>6963.0</td>\n",
       "      <td>33287.0</td>\n",
       "      <td>0.0</td>\n",
       "      <td>0.0</td>\n",
       "    </tr>\n",
       "    <tr>\n",
       "      <th>2</th>\n",
       "      <td>0.0</td>\n",
       "      <td>4.0</td>\n",
       "      <td>479.0</td>\n",
       "      <td>15636.0</td>\n",
       "      <td>212.0</td>\n",
       "      <td>0.0</td>\n",
       "      <td>9303.0</td>\n",
       "      <td>0.0</td>\n",
       "      <td>0.0</td>\n",
       "    </tr>\n",
       "    <tr>\n",
       "      <th>3</th>\n",
       "      <td>0.0</td>\n",
       "      <td>1.0</td>\n",
       "      <td>479.0</td>\n",
       "      <td>91776.0</td>\n",
       "      <td>212.0</td>\n",
       "      <td>0.0</td>\n",
       "      <td>8273.0</td>\n",
       "      <td>3908.0</td>\n",
       "      <td>0.0</td>\n",
       "    </tr>\n",
       "    <tr>\n",
       "      <th>4</th>\n",
       "      <td>0.0</td>\n",
       "      <td>3.0</td>\n",
       "      <td>27714.0</td>\n",
       "      <td>54040.0</td>\n",
       "      <td>18556.0</td>\n",
       "      <td>9268.0</td>\n",
       "      <td>16681.0</td>\n",
       "      <td>0.0</td>\n",
       "      <td>0.0</td>\n",
       "    </tr>\n",
       "    <tr>\n",
       "      <th>...</th>\n",
       "      <td>...</td>\n",
       "      <td>...</td>\n",
       "      <td>...</td>\n",
       "      <td>...</td>\n",
       "      <td>...</td>\n",
       "      <td>...</td>\n",
       "      <td>...</td>\n",
       "      <td>...</td>\n",
       "      <td>...</td>\n",
       "    </tr>\n",
       "    <tr>\n",
       "      <th>99994</th>\n",
       "      <td>5.0</td>\n",
       "      <td>3.0</td>\n",
       "      <td>163.0</td>\n",
       "      <td>77085.0</td>\n",
       "      <td>34271.0</td>\n",
       "      <td>23155.0</td>\n",
       "      <td>19346.0</td>\n",
       "      <td>0.0</td>\n",
       "      <td>0.0</td>\n",
       "    </tr>\n",
       "    <tr>\n",
       "      <th>99995</th>\n",
       "      <td>5.0</td>\n",
       "      <td>3.0</td>\n",
       "      <td>11211.0</td>\n",
       "      <td>21051.0</td>\n",
       "      <td>31850.0</td>\n",
       "      <td>20379.0</td>\n",
       "      <td>17200.0</td>\n",
       "      <td>0.0</td>\n",
       "      <td>0.0</td>\n",
       "    </tr>\n",
       "    <tr>\n",
       "      <th>99996</th>\n",
       "      <td>5.0</td>\n",
       "      <td>3.0</td>\n",
       "      <td>36220.0</td>\n",
       "      <td>86687.0</td>\n",
       "      <td>4148.0</td>\n",
       "      <td>0.0</td>\n",
       "      <td>28010.0</td>\n",
       "      <td>0.0</td>\n",
       "      <td>0.0</td>\n",
       "    </tr>\n",
       "    <tr>\n",
       "      <th>99997</th>\n",
       "      <td>5.0</td>\n",
       "      <td>0.0</td>\n",
       "      <td>70920.0</td>\n",
       "      <td>2198.0</td>\n",
       "      <td>17767.0</td>\n",
       "      <td>23465.0</td>\n",
       "      <td>8118.0</td>\n",
       "      <td>7349.0</td>\n",
       "      <td>0.0</td>\n",
       "    </tr>\n",
       "    <tr>\n",
       "      <th>99998</th>\n",
       "      <td>5.0</td>\n",
       "      <td>1.0</td>\n",
       "      <td>54889.0</td>\n",
       "      <td>84757.0</td>\n",
       "      <td>4034.0</td>\n",
       "      <td>0.0</td>\n",
       "      <td>3451.0</td>\n",
       "      <td>28761.0</td>\n",
       "      <td>11570.0</td>\n",
       "    </tr>\n",
       "  </tbody>\n",
       "</table>\n",
       "<p>99999 rows × 9 columns</p>\n",
       "</div>"
      ],
      "text/plain": [
       "       step  type   amount  nameOrig  oldbalanceOrg  newbalanceOrig  nameDest   \n",
       "0       0.0   3.0  24421.0   11862.0        32299.0         20605.0   31980.0  \\\n",
       "1       0.0   3.0   5274.0   34345.0        12041.0          6963.0   33287.0   \n",
       "2       0.0   4.0    479.0   15636.0          212.0             0.0    9303.0   \n",
       "3       0.0   1.0    479.0   91776.0          212.0             0.0    8273.0   \n",
       "4       0.0   3.0  27714.0   54040.0        18556.0          9268.0   16681.0   \n",
       "...     ...   ...      ...       ...            ...             ...       ...   \n",
       "99994   5.0   3.0    163.0   77085.0        34271.0         23155.0   19346.0   \n",
       "99995   5.0   3.0  11211.0   21051.0        31850.0         20379.0   17200.0   \n",
       "99996   5.0   3.0  36220.0   86687.0         4148.0             0.0   28010.0   \n",
       "99997   5.0   0.0  70920.0    2198.0        17767.0         23465.0    8118.0   \n",
       "99998   5.0   1.0  54889.0   84757.0         4034.0             0.0    3451.0   \n",
       "\n",
       "       oldbalanceDest  newbalanceDest  \n",
       "0                 0.0             0.0  \n",
       "1                 0.0             0.0  \n",
       "2                 0.0             0.0  \n",
       "3              3908.0             0.0  \n",
       "4                 0.0             0.0  \n",
       "...               ...             ...  \n",
       "99994             0.0             0.0  \n",
       "99995             0.0             0.0  \n",
       "99996             0.0             0.0  \n",
       "99997          7349.0             0.0  \n",
       "99998         28761.0         11570.0  \n",
       "\n",
       "[99999 rows x 9 columns]"
      ]
     },
     "execution_count": 32,
     "metadata": {},
     "output_type": "execute_result"
    }
   ],
   "source": [
    "X"
   ]
  },
  {
   "cell_type": "code",
   "execution_count": 33,
   "id": "77365073",
   "metadata": {},
   "outputs": [],
   "source": [
    "X.to_csv('file/train/Processed/encoded_processed.csv',index=False)"
   ]
  },
  {
   "cell_type": "markdown",
   "id": "4f70790f",
   "metadata": {},
   "source": [
    "# Splitting train and test datas"
   ]
  },
  {
   "cell_type": "code",
   "execution_count": 34,
   "id": "8a235e8e",
   "metadata": {},
   "outputs": [],
   "source": [
    "X_train,X_test,Y_train,Y_test= train_test_split(X,Y, train_size=0.7, shuffle=True, random_state=123)"
   ]
  },
  {
   "cell_type": "markdown",
   "id": "2b86e30e",
   "metadata": {},
   "source": [
    " - This splits the data into test and train using train_test_split function. The x and y variables are seperated into\n",
    "   x_train,x_test,y_train and y_test at a train_size of 0.7(ie, 70% of the data). The shuffle=True function randomly shuffles \n",
    "   the data with a random state of 123"
   ]
  },
  {
   "cell_type": "code",
   "execution_count": 35,
   "id": "26be59d7",
   "metadata": {},
   "outputs": [],
   "source": [
    "# save train and test data\n",
    "X_train.to_csv('file/train/raw/X_train.csv',index=False)\n",
    "Y_train.to_csv('file/train/raw/Y_train.csv',index=False)\n",
    "\n",
    "X_test.to_csv('file/evaluate/raw/X_test.csv',index=False)\n",
    "Y_test.to_csv('file/evaluate/raw/Y_test.csv',index=False)"
   ]
  },
  {
   "cell_type": "markdown",
   "id": "0e6f9308",
   "metadata": {},
   "source": [
    "# Model Training\n",
    "\n",
    "\n",
    "\n",
    "\n",
    "\n",
    "\n",
    "- **Model training is a process in which a machine learning algorithm is fed with training data from which it can learn.**"
   ]
  },
  {
   "cell_type": "code",
   "execution_count": 36,
   "id": "e5d153e8",
   "metadata": {},
   "outputs": [],
   "source": [
    "from sklearn.ensemble import RandomForestRegressor"
   ]
  },
  {
   "cell_type": "code",
   "execution_count": 37,
   "id": "cd99f335",
   "metadata": {},
   "outputs": [
    {
     "name": "stdout",
     "output_type": "stream",
     "text": [
      "Train score: 100.0\n"
     ]
    }
   ],
   "source": [
    "reg =RandomForestRegressor()\n",
    "reg.fit(X_train,Y_train)\n",
    "print('Train score:',reg.score(X_train,Y_train)* 100)"
   ]
  },
  {
   "cell_type": "code",
   "execution_count": 38,
   "id": "c78bed54",
   "metadata": {},
   "outputs": [
    {
     "data": {
      "text/plain": [
       "['file/train/model/reg.pkl']"
      ]
     },
     "execution_count": 38,
     "metadata": {},
     "output_type": "execute_result"
    }
   ],
   "source": [
    "import joblib as jb\n",
    "jb.dump(reg,'file/train/model/reg.pkl')    "
   ]
  },
  {
   "cell_type": "markdown",
   "id": "2f24dd8f",
   "metadata": {},
   "source": [
    "# Prediction"
   ]
  },
  {
   "cell_type": "code",
   "execution_count": 39,
   "id": "97f9c05f",
   "metadata": {},
   "outputs": [],
   "source": [
    "model=jb.load('file/train/model/reg.pkl')\n",
    "#encode_model=jb.load('file/train/model/train_encode_model.pkl')\n"
   ]
  },
  {
   "cell_type": "code",
   "execution_count": 40,
   "id": "390e864b",
   "metadata": {},
   "outputs": [
    {
     "ename": "NameError",
     "evalue": "name 'encode_model' is not defined",
     "output_type": "error",
     "traceback": [
      "\u001b[1;31m---------------------------------------------------------------------------\u001b[0m",
      "\u001b[1;31mNameError\u001b[0m                                 Traceback (most recent call last)",
      "Cell \u001b[1;32mIn[40], line 1\u001b[0m\n\u001b[1;32m----> 1\u001b[0m \u001b[43mencode_model\u001b[49m\n",
      "\u001b[1;31mNameError\u001b[0m: name 'encode_model' is not defined"
     ]
    }
   ],
   "source": [
    "encode_model"
   ]
  },
  {
   "cell_type": "code",
   "execution_count": 41,
   "id": "b868e9fe",
   "metadata": {},
   "outputs": [
    {
     "data": {
      "text/html": [
       "<style>#sk-container-id-1 {color: black;}#sk-container-id-1 pre{padding: 0;}#sk-container-id-1 div.sk-toggleable {background-color: white;}#sk-container-id-1 label.sk-toggleable__label {cursor: pointer;display: block;width: 100%;margin-bottom: 0;padding: 0.3em;box-sizing: border-box;text-align: center;}#sk-container-id-1 label.sk-toggleable__label-arrow:before {content: \"▸\";float: left;margin-right: 0.25em;color: #696969;}#sk-container-id-1 label.sk-toggleable__label-arrow:hover:before {color: black;}#sk-container-id-1 div.sk-estimator:hover label.sk-toggleable__label-arrow:before {color: black;}#sk-container-id-1 div.sk-toggleable__content {max-height: 0;max-width: 0;overflow: hidden;text-align: left;background-color: #f0f8ff;}#sk-container-id-1 div.sk-toggleable__content pre {margin: 0.2em;color: black;border-radius: 0.25em;background-color: #f0f8ff;}#sk-container-id-1 input.sk-toggleable__control:checked~div.sk-toggleable__content {max-height: 200px;max-width: 100%;overflow: auto;}#sk-container-id-1 input.sk-toggleable__control:checked~label.sk-toggleable__label-arrow:before {content: \"▾\";}#sk-container-id-1 div.sk-estimator input.sk-toggleable__control:checked~label.sk-toggleable__label {background-color: #d4ebff;}#sk-container-id-1 div.sk-label input.sk-toggleable__control:checked~label.sk-toggleable__label {background-color: #d4ebff;}#sk-container-id-1 input.sk-hidden--visually {border: 0;clip: rect(1px 1px 1px 1px);clip: rect(1px, 1px, 1px, 1px);height: 1px;margin: -1px;overflow: hidden;padding: 0;position: absolute;width: 1px;}#sk-container-id-1 div.sk-estimator {font-family: monospace;background-color: #f0f8ff;border: 1px dotted black;border-radius: 0.25em;box-sizing: border-box;margin-bottom: 0.5em;}#sk-container-id-1 div.sk-estimator:hover {background-color: #d4ebff;}#sk-container-id-1 div.sk-parallel-item::after {content: \"\";width: 100%;border-bottom: 1px solid gray;flex-grow: 1;}#sk-container-id-1 div.sk-label:hover label.sk-toggleable__label {background-color: #d4ebff;}#sk-container-id-1 div.sk-serial::before {content: \"\";position: absolute;border-left: 1px solid gray;box-sizing: border-box;top: 0;bottom: 0;left: 50%;z-index: 0;}#sk-container-id-1 div.sk-serial {display: flex;flex-direction: column;align-items: center;background-color: white;padding-right: 0.2em;padding-left: 0.2em;position: relative;}#sk-container-id-1 div.sk-item {position: relative;z-index: 1;}#sk-container-id-1 div.sk-parallel {display: flex;align-items: stretch;justify-content: center;background-color: white;position: relative;}#sk-container-id-1 div.sk-item::before, #sk-container-id-1 div.sk-parallel-item::before {content: \"\";position: absolute;border-left: 1px solid gray;box-sizing: border-box;top: 0;bottom: 0;left: 50%;z-index: -1;}#sk-container-id-1 div.sk-parallel-item {display: flex;flex-direction: column;z-index: 1;position: relative;background-color: white;}#sk-container-id-1 div.sk-parallel-item:first-child::after {align-self: flex-end;width: 50%;}#sk-container-id-1 div.sk-parallel-item:last-child::after {align-self: flex-start;width: 50%;}#sk-container-id-1 div.sk-parallel-item:only-child::after {width: 0;}#sk-container-id-1 div.sk-dashed-wrapped {border: 1px dashed gray;margin: 0 0.4em 0.5em 0.4em;box-sizing: border-box;padding-bottom: 0.4em;background-color: white;}#sk-container-id-1 div.sk-label label {font-family: monospace;font-weight: bold;display: inline-block;line-height: 1.2em;}#sk-container-id-1 div.sk-label-container {text-align: center;}#sk-container-id-1 div.sk-container {/* jupyter's `normalize.less` sets `[hidden] { display: none; }` but bootstrap.min.css set `[hidden] { display: none !important; }` so we also need the `!important` here to be able to override the default hidden behavior on the sphinx rendered scikit-learn.org. See: https://github.com/scikit-learn/scikit-learn/issues/21755 */display: inline-block !important;position: relative;}#sk-container-id-1 div.sk-text-repr-fallback {display: none;}</style><div id=\"sk-container-id-1\" class=\"sk-top-container\"><div class=\"sk-text-repr-fallback\"><pre>RandomForestRegressor()</pre><b>In a Jupyter environment, please rerun this cell to show the HTML representation or trust the notebook. <br />On GitHub, the HTML representation is unable to render, please try loading this page with nbviewer.org.</b></div><div class=\"sk-container\" hidden><div class=\"sk-item\"><div class=\"sk-estimator sk-toggleable\"><input class=\"sk-toggleable__control sk-hidden--visually\" id=\"sk-estimator-id-1\" type=\"checkbox\" checked><label for=\"sk-estimator-id-1\" class=\"sk-toggleable__label sk-toggleable__label-arrow\">RandomForestRegressor</label><div class=\"sk-toggleable__content\"><pre>RandomForestRegressor()</pre></div></div></div></div></div>"
      ],
      "text/plain": [
       "RandomForestRegressor()"
      ]
     },
     "execution_count": 41,
     "metadata": {},
     "output_type": "execute_result"
    }
   ],
   "source": [
    "model"
   ]
  },
  {
   "cell_type": "code",
   "execution_count": 42,
   "id": "5d2e221d",
   "metadata": {},
   "outputs": [
    {
     "data": {
      "text/html": [
       "<div>\n",
       "<style scoped>\n",
       "    .dataframe tbody tr th:only-of-type {\n",
       "        vertical-align: middle;\n",
       "    }\n",
       "\n",
       "    .dataframe tbody tr th {\n",
       "        vertical-align: top;\n",
       "    }\n",
       "\n",
       "    .dataframe thead th {\n",
       "        text-align: right;\n",
       "    }\n",
       "</style>\n",
       "<table border=\"1\" class=\"dataframe\">\n",
       "  <thead>\n",
       "    <tr style=\"text-align: right;\">\n",
       "      <th></th>\n",
       "      <th>0</th>\n",
       "    </tr>\n",
       "  </thead>\n",
       "  <tbody>\n",
       "    <tr>\n",
       "      <th>0</th>\n",
       "      <td>0.0</td>\n",
       "    </tr>\n",
       "    <tr>\n",
       "      <th>1</th>\n",
       "      <td>0.0</td>\n",
       "    </tr>\n",
       "    <tr>\n",
       "      <th>2</th>\n",
       "      <td>0.0</td>\n",
       "    </tr>\n",
       "    <tr>\n",
       "      <th>3</th>\n",
       "      <td>0.0</td>\n",
       "    </tr>\n",
       "    <tr>\n",
       "      <th>4</th>\n",
       "      <td>0.0</td>\n",
       "    </tr>\n",
       "    <tr>\n",
       "      <th>...</th>\n",
       "      <td>...</td>\n",
       "    </tr>\n",
       "    <tr>\n",
       "      <th>29995</th>\n",
       "      <td>0.0</td>\n",
       "    </tr>\n",
       "    <tr>\n",
       "      <th>29996</th>\n",
       "      <td>0.0</td>\n",
       "    </tr>\n",
       "    <tr>\n",
       "      <th>29997</th>\n",
       "      <td>0.0</td>\n",
       "    </tr>\n",
       "    <tr>\n",
       "      <th>29998</th>\n",
       "      <td>0.0</td>\n",
       "    </tr>\n",
       "    <tr>\n",
       "      <th>29999</th>\n",
       "      <td>0.0</td>\n",
       "    </tr>\n",
       "  </tbody>\n",
       "</table>\n",
       "<p>30000 rows × 1 columns</p>\n",
       "</div>"
      ],
      "text/plain": [
       "         0\n",
       "0      0.0\n",
       "1      0.0\n",
       "2      0.0\n",
       "3      0.0\n",
       "4      0.0\n",
       "...    ...\n",
       "29995  0.0\n",
       "29996  0.0\n",
       "29997  0.0\n",
       "29998  0.0\n",
       "29999  0.0\n",
       "\n",
       "[30000 rows x 1 columns]"
      ]
     },
     "execution_count": 42,
     "metadata": {},
     "output_type": "execute_result"
    }
   ],
   "source": [
    "y_pred=pd.DataFrame(model.predict(X_test))\n",
    "y_pred"
   ]
  },
  {
   "cell_type": "code",
   "execution_count": 43,
   "id": "4cdd7a14",
   "metadata": {},
   "outputs": [],
   "source": [
    "from math import sqrt\n",
    "from sklearn.metrics import mean_absolute_error,mean_squared_error,r2_score"
   ]
  },
  {
   "cell_type": "code",
   "execution_count": 44,
   "id": "0b53f6f6",
   "metadata": {},
   "outputs": [
    {
     "name": "stdout",
     "output_type": "stream",
     "text": [
      "Mean Absolute Error: 0.0\n",
      "Mean Squared Error : 0.0\n",
      "Root Mean Squared Error : 0.0\n"
     ]
    }
   ],
   "source": [
    "print('Mean Absolute Error:',mean_absolute_error(y_pred,Y_test))\n",
    "print('Mean Squared Error :',mean_squared_error(y_pred,Y_test))\n",
    "print('Root Mean Squared Error :',sqrt(mean_squared_error(y_pred,Y_test)))"
   ]
  },
  {
   "cell_type": "code",
   "execution_count": null,
   "id": "1374447c",
   "metadata": {},
   "outputs": [],
   "source": []
  },
  {
   "cell_type": "code",
   "execution_count": null,
   "id": "c7c58d6f",
   "metadata": {},
   "outputs": [],
   "source": []
  },
  {
   "cell_type": "code",
   "execution_count": null,
   "id": "ceb3de6e",
   "metadata": {},
   "outputs": [],
   "source": []
  }
 ],
 "metadata": {
  "kernelspec": {
   "display_name": "Python 3 (ipykernel)",
   "language": "python",
   "name": "python3"
  },
  "language_info": {
   "codemirror_mode": {
    "name": "ipython",
    "version": 3
   },
   "file_extension": ".py",
   "mimetype": "text/x-python",
   "name": "python",
   "nbconvert_exporter": "python",
   "pygments_lexer": "ipython3",
   "version": "3.11.3"
  }
 },
 "nbformat": 4,
 "nbformat_minor": 5
}
