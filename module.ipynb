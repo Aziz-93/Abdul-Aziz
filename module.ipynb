{
 "cells": [
  {
   "cell_type": "code",
   "execution_count": 1,
   "id": "3ba2ca73",
   "metadata": {},
   "outputs": [],
   "source": [
    "import ajish        # task 3"
   ]
  },
  {
   "cell_type": "code",
   "execution_count": 2,
   "id": "19bb05e4",
   "metadata": {},
   "outputs": [
    {
     "data": {
      "text/plain": [
       "10"
      ]
     },
     "execution_count": 2,
     "metadata": {},
     "output_type": "execute_result"
    }
   ],
   "source": [
    "ajish.add(5,5)"
   ]
  },
  {
   "cell_type": "code",
   "execution_count": 3,
   "id": "63521a4a",
   "metadata": {},
   "outputs": [],
   "source": [
    "import ajish1"
   ]
  },
  {
   "cell_type": "code",
   "execution_count": 16,
   "id": "4f816e50",
   "metadata": {},
   "outputs": [
    {
     "name": "stdout",
     "output_type": "stream",
     "text": [
      "Enter first number:2\n",
      "Enter second number:5\n",
      "10 is odd\n"
     ]
    },
    {
     "data": {
      "text/plain": [
       "10"
      ]
     },
     "execution_count": 16,
     "metadata": {},
     "output_type": "execute_result"
    }
   ],
   "source": [
    "ajish1.Task()"
   ]
  },
  {
   "cell_type": "code",
   "execution_count": 21,
   "id": "2beb2dd0",
   "metadata": {},
   "outputs": [],
   "source": [
    "import ajish2      # task 2"
   ]
  },
  {
   "cell_type": "code",
   "execution_count": 22,
   "id": "6d6e3b6f",
   "metadata": {},
   "outputs": [
    {
     "data": {
      "text/plain": [
       "'apple'"
      ]
     },
     "execution_count": 22,
     "metadata": {},
     "output_type": "execute_result"
    }
   ],
   "source": [
    "ajish2.b[10:15]"
   ]
  },
  {
   "cell_type": "code",
   "execution_count": 33,
   "id": "a4cbdb09",
   "metadata": {},
   "outputs": [],
   "source": [
    "import ajish3      # task 1"
   ]
  },
  {
   "cell_type": "code",
   "execution_count": 36,
   "id": "78600a92",
   "metadata": {},
   "outputs": [
    {
     "data": {
      "text/plain": [
       "{12, 2, 3, 4, 8, 9, 'Apple', 'apple'}"
      ]
     },
     "execution_count": 36,
     "metadata": {},
     "output_type": "execute_result"
    }
   ],
   "source": [
    "ajish3.a"
   ]
  },
  {
   "cell_type": "code",
   "execution_count": null,
   "id": "c78ed862",
   "metadata": {},
   "outputs": [],
   "source": []
  },
  {
   "cell_type": "code",
   "execution_count": null,
   "id": "41c68c40",
   "metadata": {},
   "outputs": [],
   "source": []
  }
 ],
 "metadata": {
  "kernelspec": {
   "display_name": "Python 3 (ipykernel)",
   "language": "python",
   "name": "python3"
  },
  "language_info": {
   "codemirror_mode": {
    "name": "ipython",
    "version": 3
   },
   "file_extension": ".py",
   "mimetype": "text/x-python",
   "name": "python",
   "nbconvert_exporter": "python",
   "pygments_lexer": "ipython3",
   "version": "3.11.0"
  }
 },
 "nbformat": 4,
 "nbformat_minor": 5
}
