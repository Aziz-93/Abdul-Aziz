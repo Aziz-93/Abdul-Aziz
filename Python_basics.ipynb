{
 "cells": [
  {
   "cell_type": "code",
   "execution_count": 1,
   "id": "964e0342",
   "metadata": {},
   "outputs": [
    {
     "data": {
      "text/plain": [
       "2"
      ]
     },
     "execution_count": 1,
     "metadata": {},
     "output_type": "execute_result"
    }
   ],
   "source": [
    "1+1"
   ]
  },
  {
   "cell_type": "code",
   "execution_count": 2,
   "id": "52f7e5d5",
   "metadata": {},
   "outputs": [
    {
     "name": "stdout",
     "output_type": "stream",
     "text": [
      "hellow world\n"
     ]
    }
   ],
   "source": [
    "print('hellow world')"
   ]
  },
  {
   "cell_type": "code",
   "execution_count": 3,
   "id": "ae80799f",
   "metadata": {},
   "outputs": [
    {
     "data": {
      "text/plain": [
       "3"
      ]
     },
     "execution_count": 3,
     "metadata": {},
     "output_type": "execute_result"
    }
   ],
   "source": [
    "1+2"
   ]
  },
  {
   "cell_type": "code",
   "execution_count": 4,
   "id": "62ec235c",
   "metadata": {},
   "outputs": [
    {
     "name": "stdout",
     "output_type": "stream",
     "text": [
      "hellow ajish\n"
     ]
    }
   ],
   "source": [
    "print('hellow ajish')"
   ]
  },
  {
   "cell_type": "code",
   "execution_count": 5,
   "id": "809d69ff",
   "metadata": {},
   "outputs": [
    {
     "data": {
      "text/plain": [
       "2"
      ]
     },
     "execution_count": 5,
     "metadata": {},
     "output_type": "execute_result"
    }
   ],
   "source": [
    "1+1"
   ]
  },
  {
   "cell_type": "markdown",
   "id": "b0fa4bcd",
   "metadata": {},
   "source": [
    "# Python Basics"
   ]
  },
  {
   "cell_type": "markdown",
   "id": "8e20862f",
   "metadata": {},
   "source": [
    "## Variable - to store data types "
   ]
  },
  {
   "cell_type": "raw",
   "id": "5ba19861",
   "metadata": {},
   "source": [
    " - not start a number,symbol\n",
    " - no gap\n",
    " - solud in left side and use '='\n",
    " - caps variable are different\n",
    " - variables are updateble"
   ]
  },
  {
   "cell_type": "code",
   "execution_count": 6,
   "id": "fa441dc7",
   "metadata": {},
   "outputs": [
    {
     "data": {
      "text/plain": [
       "1"
      ]
     },
     "execution_count": 6,
     "metadata": {},
     "output_type": "execute_result"
    }
   ],
   "source": [
    "a=1\n",
    "a         # varibale"
   ]
  },
  {
   "cell_type": "code",
   "execution_count": 7,
   "id": "9dc712fe",
   "metadata": {},
   "outputs": [],
   "source": [
    "a=1\n",
    "B=2\n",
    "c=4\n"
   ]
  },
  {
   "cell_type": "code",
   "execution_count": 8,
   "id": "8207168a",
   "metadata": {},
   "outputs": [
    {
     "name": "stdout",
     "output_type": "stream",
     "text": [
      "1\n",
      "2\n",
      "4\n"
     ]
    }
   ],
   "source": [
    "print(a)\n",
    "print(B)\n",
    "print(c)"
   ]
  },
  {
   "cell_type": "code",
   "execution_count": 9,
   "id": "69b53f67",
   "metadata": {},
   "outputs": [
    {
     "data": {
      "text/plain": [
       "4"
      ]
     },
     "execution_count": 9,
     "metadata": {},
     "output_type": "execute_result"
    }
   ],
   "source": [
    "c=4\n",
    "c"
   ]
  },
  {
   "cell_type": "code",
   "execution_count": 10,
   "id": "6ebd679e",
   "metadata": {},
   "outputs": [],
   "source": [
    "a,b,c=1,2,3"
   ]
  },
  {
   "cell_type": "code",
   "execution_count": 11,
   "id": "e5081bca",
   "metadata": {},
   "outputs": [
    {
     "name": "stdout",
     "output_type": "stream",
     "text": [
      "1 2 3\n"
     ]
    }
   ],
   "source": [
    "print(a,b,c)"
   ]
  },
  {
   "cell_type": "code",
   "execution_count": 12,
   "id": "83414b8a",
   "metadata": {},
   "outputs": [],
   "source": [
    "B=2"
   ]
  },
  {
   "cell_type": "code",
   "execution_count": 13,
   "id": "375b81d0",
   "metadata": {},
   "outputs": [
    {
     "data": {
      "text/plain": [
       "2"
      ]
     },
     "execution_count": 13,
     "metadata": {},
     "output_type": "execute_result"
    }
   ],
   "source": [
    "B"
   ]
  },
  {
   "cell_type": "code",
   "execution_count": 14,
   "id": "644fb5f7",
   "metadata": {},
   "outputs": [],
   "source": [
    "a=3     #  variables are updateble"
   ]
  },
  {
   "cell_type": "code",
   "execution_count": 15,
   "id": "348f92ad",
   "metadata": {},
   "outputs": [
    {
     "name": "stdout",
     "output_type": "stream",
     "text": [
      "3 2\n"
     ]
    }
   ],
   "source": [
    "print(a,B)"
   ]
  },
  {
   "cell_type": "code",
   "execution_count": 16,
   "id": "e4ac4798",
   "metadata": {},
   "outputs": [
    {
     "data": {
      "text/plain": [
       "1"
      ]
     },
     "execution_count": 16,
     "metadata": {},
     "output_type": "execute_result"
    }
   ],
   "source": [
    "a1=1\n",
    "\n",
    "a1"
   ]
  },
  {
   "cell_type": "code",
   "execution_count": 17,
   "id": "d457ee50",
   "metadata": {},
   "outputs": [
    {
     "data": {
      "text/plain": [
       "3"
      ]
     },
     "execution_count": 17,
     "metadata": {},
     "output_type": "execute_result"
    }
   ],
   "source": [
    "a"
   ]
  },
  {
   "cell_type": "code",
   "execution_count": 18,
   "id": "09a7ce08",
   "metadata": {},
   "outputs": [
    {
     "data": {
      "text/plain": [
       "1"
      ]
     },
     "execution_count": 18,
     "metadata": {},
     "output_type": "execute_result"
    }
   ],
   "source": [
    "a1"
   ]
  },
  {
   "cell_type": "markdown",
   "id": "e0c4f058",
   "metadata": {},
   "source": [
    "# Data Types\n",
    "\n",
    "-  int,float,complex_number\n",
    "-  str\n",
    "-  bool\n",
    "-  list,tuple,set,dict\n",
    "\n",
    "To find type of the data use\n",
    "    \n",
    " - type(a)"
   ]
  },
  {
   "cell_type": "markdown",
   "id": "7bae3d0f",
   "metadata": {},
   "source": [
    "# int\n",
    "\n",
    "  - whole numbers\n",
    "  - example:2"
   ]
  },
  {
   "cell_type": "code",
   "execution_count": 19,
   "id": "ae97b9a8",
   "metadata": {},
   "outputs": [
    {
     "data": {
      "text/plain": [
       "int"
      ]
     },
     "execution_count": 19,
     "metadata": {},
     "output_type": "execute_result"
    }
   ],
   "source": [
    "a=1\n",
    "type(a)"
   ]
  },
  {
   "cell_type": "code",
   "execution_count": 20,
   "id": "2e06604c",
   "metadata": {},
   "outputs": [
    {
     "data": {
      "text/plain": [
       "int"
      ]
     },
     "execution_count": 20,
     "metadata": {},
     "output_type": "execute_result"
    }
   ],
   "source": [
    "b=2\n",
    "type(b)"
   ]
  },
  {
   "cell_type": "code",
   "execution_count": 21,
   "id": "11a29411",
   "metadata": {},
   "outputs": [
    {
     "data": {
      "text/plain": [
       "float"
      ]
     },
     "execution_count": 21,
     "metadata": {},
     "output_type": "execute_result"
    }
   ],
   "source": [
    "d=2.1\n",
    "type(d)"
   ]
  },
  {
   "cell_type": "code",
   "execution_count": 22,
   "id": "e07d6bf5",
   "metadata": {},
   "outputs": [
    {
     "data": {
      "text/plain": [
       "float"
      ]
     },
     "execution_count": 22,
     "metadata": {},
     "output_type": "execute_result"
    }
   ],
   "source": [
    "type(3.9)"
   ]
  },
  {
   "cell_type": "code",
   "execution_count": null,
   "id": "3db70f53",
   "metadata": {},
   "outputs": [],
   "source": []
  },
  {
   "cell_type": "markdown",
   "id": "15a00117",
   "metadata": {},
   "source": [
    "# float\n",
    "\n",
    "  - decimal value \n",
    "  - example:2.3"
   ]
  },
  {
   "cell_type": "code",
   "execution_count": 23,
   "id": "6433b9a5",
   "metadata": {},
   "outputs": [
    {
     "data": {
      "text/plain": [
       "float"
      ]
     },
     "execution_count": 23,
     "metadata": {},
     "output_type": "execute_result"
    }
   ],
   "source": [
    "d=2.1\n",
    "type(d)"
   ]
  },
  {
   "cell_type": "code",
   "execution_count": 24,
   "id": "1777b359",
   "metadata": {},
   "outputs": [
    {
     "data": {
      "text/plain": [
       "float"
      ]
     },
     "execution_count": 24,
     "metadata": {},
     "output_type": "execute_result"
    }
   ],
   "source": [
    "d=3.9\n",
    "type(d)"
   ]
  },
  {
   "cell_type": "markdown",
   "id": "42bead06",
   "metadata": {},
   "source": [
    "##  complex_number\n",
    "\n",
    "   - example: 1+3i"
   ]
  },
  {
   "cell_type": "code",
   "execution_count": 25,
   "id": "787a46c9",
   "metadata": {},
   "outputs": [
    {
     "data": {
      "text/plain": [
       "complex"
      ]
     },
     "execution_count": 25,
     "metadata": {},
     "output_type": "execute_result"
    }
   ],
   "source": [
    "type(1+33j)"
   ]
  },
  {
   "cell_type": "markdown",
   "id": "90b2fcc3",
   "metadata": {},
   "source": [
    "# Text Type\n",
    "##  String (Str)\n",
    "    - use \"\"\n",
    "    - u can use single, double or triple '\"\""
   ]
  },
  {
   "cell_type": "code",
   "execution_count": 26,
   "id": "e7a48c89",
   "metadata": {},
   "outputs": [
    {
     "data": {
      "text/plain": [
       "'i am ajish'"
      ]
     },
     "execution_count": 26,
     "metadata": {},
     "output_type": "execute_result"
    }
   ],
   "source": [
    "f='i am ajish'\n",
    "f"
   ]
  },
  {
   "cell_type": "code",
   "execution_count": 27,
   "id": "1334e49a",
   "metadata": {},
   "outputs": [
    {
     "data": {
      "text/plain": [
       "str"
      ]
     },
     "execution_count": 27,
     "metadata": {},
     "output_type": "execute_result"
    }
   ],
   "source": [
    "type(f)"
   ]
  },
  {
   "cell_type": "markdown",
   "id": "be6d4895",
   "metadata": {},
   "source": [
    "# using different coat\n"
   ]
  },
  {
   "cell_type": "code",
   "execution_count": 28,
   "id": "ca8b74a8",
   "metadata": {},
   "outputs": [
    {
     "data": {
      "text/plain": [
       "\"dad's money\""
      ]
     },
     "execution_count": 28,
     "metadata": {},
     "output_type": "execute_result"
    }
   ],
   "source": [
    "g=\"dad's money\"\n",
    "\n",
    "g"
   ]
  },
  {
   "cell_type": "markdown",
   "id": "5a3ab0f6",
   "metadata": {},
   "source": [
    "# triple code using"
   ]
  },
  {
   "cell_type": "code",
   "execution_count": 29,
   "id": "d09b3ead",
   "metadata": {},
   "outputs": [
    {
     "data": {
      "text/plain": [
       "\"dad's moey\\n    money save\""
      ]
     },
     "execution_count": 29,
     "metadata": {},
     "output_type": "execute_result"
    }
   ],
   "source": [
    "g='''dad's moey\n",
    "    money save'''\n",
    "g"
   ]
  },
  {
   "cell_type": "markdown",
   "id": "7df59b9c",
   "metadata": {},
   "source": [
    "## Index \n",
    "    - starts with 0\n",
    "    - use [_]\n",
    "    - include white space while indexing"
   ]
  },
  {
   "cell_type": "code",
   "execution_count": 30,
   "id": "d7f36add",
   "metadata": {},
   "outputs": [],
   "source": [
    "f='i am happy'"
   ]
  },
  {
   "cell_type": "code",
   "execution_count": 31,
   "id": "ced83ae2",
   "metadata": {},
   "outputs": [
    {
     "data": {
      "text/plain": [
       "'i'"
      ]
     },
     "execution_count": 31,
     "metadata": {},
     "output_type": "execute_result"
    }
   ],
   "source": [
    "f[0]"
   ]
  },
  {
   "cell_type": "code",
   "execution_count": 32,
   "id": "19677299",
   "metadata": {},
   "outputs": [
    {
     "data": {
      "text/plain": [
       "' '"
      ]
     },
     "execution_count": 32,
     "metadata": {},
     "output_type": "execute_result"
    }
   ],
   "source": [
    "f[1]"
   ]
  },
  {
   "cell_type": "code",
   "execution_count": 33,
   "id": "29a55bf8",
   "metadata": {},
   "outputs": [
    {
     "data": {
      "text/plain": [
       "'a'"
      ]
     },
     "execution_count": 33,
     "metadata": {},
     "output_type": "execute_result"
    }
   ],
   "source": [
    "f[2]"
   ]
  },
  {
   "cell_type": "markdown",
   "id": "cd7617bb",
   "metadata": {},
   "source": [
    "## String Slicing\n",
    "\n",
    "    - while Slicing U need to add exta index (end)"
   ]
  },
  {
   "cell_type": "code",
   "execution_count": 34,
   "id": "85f4e738",
   "metadata": {},
   "outputs": [
    {
     "data": {
      "text/plain": [
       "'happy'"
      ]
     },
     "execution_count": 34,
     "metadata": {},
     "output_type": "execute_result"
    }
   ],
   "source": [
    "f='i am happy'\n",
    "f[5:10]"
   ]
  },
  {
   "cell_type": "code",
   "execution_count": 35,
   "id": "00ddb2f4",
   "metadata": {},
   "outputs": [
    {
     "data": {
      "text/plain": [
       "'walk'"
      ]
     },
     "execution_count": 35,
     "metadata": {},
     "output_type": "execute_result"
    }
   ],
   "source": [
    "f='dance walk'\n",
    "f[6:10]"
   ]
  },
  {
   "cell_type": "code",
   "execution_count": 36,
   "id": "97062468",
   "metadata": {},
   "outputs": [
    {
     "data": {
      "text/plain": [
       "10"
      ]
     },
     "execution_count": 36,
     "metadata": {},
     "output_type": "execute_result"
    }
   ],
   "source": [
    "len(f)"
   ]
  },
  {
   "cell_type": "code",
   "execution_count": 37,
   "id": "376ddbfb",
   "metadata": {},
   "outputs": [
    {
     "data": {
      "text/plain": [
       "5"
      ]
     },
     "execution_count": 37,
     "metadata": {},
     "output_type": "execute_result"
    }
   ],
   "source": [
    "len('abdul')"
   ]
  },
  {
   "cell_type": "markdown",
   "id": "adc3faed",
   "metadata": {},
   "source": [
    "## Revase walk number"
   ]
  },
  {
   "cell_type": "code",
   "execution_count": 38,
   "id": "dc352751",
   "metadata": {},
   "outputs": [],
   "source": [
    "f='i am walk'"
   ]
  },
  {
   "cell_type": "code",
   "execution_count": 39,
   "id": "164a1447",
   "metadata": {},
   "outputs": [
    {
     "data": {
      "text/plain": [
       "'walk'"
      ]
     },
     "execution_count": 39,
     "metadata": {},
     "output_type": "execute_result"
    }
   ],
   "source": [
    "f[-4:]"
   ]
  },
  {
   "cell_type": "markdown",
   "id": "f6c862fe",
   "metadata": {},
   "source": [
    "## String Concatination"
   ]
  },
  {
   "cell_type": "code",
   "execution_count": 40,
   "id": "3867cc05",
   "metadata": {},
   "outputs": [],
   "source": [
    "a='i am '\n",
    "b='abdul, '"
   ]
  },
  {
   "cell_type": "code",
   "execution_count": 41,
   "id": "07507d79",
   "metadata": {},
   "outputs": [
    {
     "data": {
      "text/plain": [
       "'i am abdul, '"
      ]
     },
     "execution_count": 41,
     "metadata": {},
     "output_type": "execute_result"
    }
   ],
   "source": [
    "c=a+b\n",
    "c"
   ]
  },
  {
   "cell_type": "code",
   "execution_count": 42,
   "id": "b4da2100",
   "metadata": {},
   "outputs": [
    {
     "data": {
      "text/plain": [
       "'i am abdul, i am abdul, i am abdul, '"
      ]
     },
     "execution_count": 42,
     "metadata": {},
     "output_type": "execute_result"
    }
   ],
   "source": [
    "3*c"
   ]
  },
  {
   "cell_type": "code",
   "execution_count": 43,
   "id": "d516bb72",
   "metadata": {},
   "outputs": [
    {
     "data": {
      "text/plain": [
       "True"
      ]
     },
     "execution_count": 43,
     "metadata": {},
     "output_type": "execute_result"
    }
   ],
   "source": [
    "'abdul,' in c"
   ]
  },
  {
   "cell_type": "code",
   "execution_count": 44,
   "id": "9a462bbb",
   "metadata": {},
   "outputs": [
    {
     "data": {
      "text/plain": [
       "True"
      ]
     },
     "execution_count": 44,
     "metadata": {},
     "output_type": "execute_result"
    }
   ],
   "source": [
    "'am'in c"
   ]
  },
  {
   "cell_type": "code",
   "execution_count": 45,
   "id": "129910bf",
   "metadata": {},
   "outputs": [
    {
     "data": {
      "text/plain": [
       "False"
      ]
     },
     "execution_count": 45,
     "metadata": {},
     "output_type": "execute_result"
    }
   ],
   "source": [
    "'f'in c"
   ]
  },
  {
   "cell_type": "code",
   "execution_count": 46,
   "id": "3e0f9881",
   "metadata": {},
   "outputs": [
    {
     "data": {
      "text/plain": [
       "True"
      ]
     },
     "execution_count": 46,
     "metadata": {},
     "output_type": "execute_result"
    }
   ],
   "source": [
    "a='1'\n",
    "a.isnumeric()"
   ]
  },
  {
   "cell_type": "code",
   "execution_count": 86,
   "id": "ce2681e2",
   "metadata": {},
   "outputs": [
    {
     "name": "stdout",
     "output_type": "stream",
     "text": [
      "abdul\n",
      "i am abdul\n"
     ]
    }
   ],
   "source": [
    "b=input()\n",
    "a='i am '+b\n",
    "print(a)"
   ]
  },
  {
   "cell_type": "code",
   "execution_count": 48,
   "id": "6bd698e1",
   "metadata": {},
   "outputs": [
    {
     "name": "stdout",
     "output_type": "stream",
     "text": [
      "player name is abdul bating at 7\n"
     ]
    }
   ],
   "source": [
    "a='abdul'\n",
    "b='7'\n",
    "print(f'player name is {a} bating at {b}')"
   ]
  },
  {
   "cell_type": "code",
   "execution_count": 49,
   "id": "af0c5787",
   "metadata": {},
   "outputs": [
    {
     "name": "stdout",
     "output_type": "stream",
     "text": [
      "player name is abdul bating at 7\n"
     ]
    }
   ],
   "source": [
    "a='abdul'\n",
    "b='7'\n",
    "print('player name is {} bating at {}'.format(a,b))"
   ]
  },
  {
   "cell_type": "code",
   "execution_count": 50,
   "id": "8022bc13",
   "metadata": {},
   "outputs": [],
   "source": [
    "a='kholi 1'"
   ]
  },
  {
   "cell_type": "code",
   "execution_count": 51,
   "id": "9774559d",
   "metadata": {},
   "outputs": [
    {
     "data": {
      "text/plain": [
       "'aholi 1'"
      ]
     },
     "execution_count": 51,
     "metadata": {},
     "output_type": "execute_result"
    }
   ],
   "source": [
    "a.replace('k','a')"
   ]
  },
  {
   "cell_type": "code",
   "execution_count": 52,
   "id": "1ad82e51",
   "metadata": {},
   "outputs": [],
   "source": [
    "b=a.lower()"
   ]
  },
  {
   "cell_type": "code",
   "execution_count": 53,
   "id": "b469548e",
   "metadata": {},
   "outputs": [
    {
     "data": {
      "text/plain": [
       "True"
      ]
     },
     "execution_count": 53,
     "metadata": {},
     "output_type": "execute_result"
    }
   ],
   "source": [
    "a.islower()"
   ]
  },
  {
   "cell_type": "code",
   "execution_count": 54,
   "id": "ac9b6d5d",
   "metadata": {},
   "outputs": [],
   "source": [
    "a= 'i am goood '\n",
    "a=a.strip()"
   ]
  },
  {
   "cell_type": "code",
   "execution_count": 55,
   "id": "b4c03b41",
   "metadata": {},
   "outputs": [
    {
     "data": {
      "text/plain": [
       "'i_am_goood'"
      ]
     },
     "execution_count": 55,
     "metadata": {},
     "output_type": "execute_result"
    }
   ],
   "source": [
    "a.replace(' ','_')"
   ]
  },
  {
   "cell_type": "code",
   "execution_count": 56,
   "id": "54584403",
   "metadata": {},
   "outputs": [
    {
     "data": {
      "text/plain": [
       "'I Am good'"
      ]
     },
     "execution_count": 56,
     "metadata": {},
     "output_type": "execute_result"
    }
   ],
   "source": [
    "a.title()\n",
    "'I Am good'"
   ]
  },
  {
   "cell_type": "code",
   "execution_count": 57,
   "id": "ed635019",
   "metadata": {},
   "outputs": [
    {
     "data": {
      "text/plain": [
       "'I am goood'"
      ]
     },
     "execution_count": 57,
     "metadata": {},
     "output_type": "execute_result"
    }
   ],
   "source": [
    "a.capitalize()"
   ]
  },
  {
   "cell_type": "code",
   "execution_count": 58,
   "id": "0e5e2b4d",
   "metadata": {},
   "outputs": [
    {
     "data": {
      "text/plain": [
       "9"
      ]
     },
     "execution_count": 58,
     "metadata": {},
     "output_type": "execute_result"
    }
   ],
   "source": [
    "a.find('d')"
   ]
  },
  {
   "cell_type": "code",
   "execution_count": 59,
   "id": "ef324aca",
   "metadata": {},
   "outputs": [
    {
     "data": {
      "text/plain": [
       "3"
      ]
     },
     "execution_count": 59,
     "metadata": {},
     "output_type": "execute_result"
    }
   ],
   "source": [
    "a.count('o')"
   ]
  },
  {
   "cell_type": "code",
   "execution_count": 60,
   "id": "daddf816",
   "metadata": {},
   "outputs": [
    {
     "name": "stdout",
     "output_type": "stream",
     "text": [
      "i am \n",
      " bad\n"
     ]
    }
   ],
   "source": [
    "print('i am \\n bad')"
   ]
  },
  {
   "cell_type": "code",
   "execution_count": 61,
   "id": "2fb6c878",
   "metadata": {},
   "outputs": [
    {
     "name": "stdout",
     "output_type": "stream",
     "text": [
      "i am \t bad\n"
     ]
    }
   ],
   "source": [
    "print('i am \\t bad')   # tab "
   ]
  },
  {
   "cell_type": "markdown",
   "id": "30084269",
   "metadata": {},
   "source": [
    "## Type Casting\n",
    "    - type conversion"
   ]
  },
  {
   "cell_type": "code",
   "execution_count": 62,
   "id": "c9df1e28",
   "metadata": {},
   "outputs": [],
   "source": [
    "a=30.2"
   ]
  },
  {
   "cell_type": "code",
   "execution_count": 63,
   "id": "976c8bca",
   "metadata": {},
   "outputs": [],
   "source": [
    "a=int(30.8)  #it wan't round the value"
   ]
  },
  {
   "cell_type": "code",
   "execution_count": 64,
   "id": "055489cb",
   "metadata": {},
   "outputs": [
    {
     "data": {
      "text/plain": [
       "30"
      ]
     },
     "execution_count": 64,
     "metadata": {},
     "output_type": "execute_result"
    }
   ],
   "source": [
    "a"
   ]
  },
  {
   "cell_type": "code",
   "execution_count": 65,
   "id": "5e8284ae",
   "metadata": {},
   "outputs": [
    {
     "data": {
      "text/plain": [
       "float"
      ]
     },
     "execution_count": 65,
     "metadata": {},
     "output_type": "execute_result"
    }
   ],
   "source": [
    "b=float(13)\n",
    "type(b)"
   ]
  },
  {
   "cell_type": "code",
   "execution_count": 66,
   "id": "5f29d6e7",
   "metadata": {},
   "outputs": [
    {
     "data": {
      "text/plain": [
       "str"
      ]
     },
     "execution_count": 66,
     "metadata": {},
     "output_type": "execute_result"
    }
   ],
   "source": [
    "a=str(1)\n",
    "type(a)"
   ]
  },
  {
   "cell_type": "code",
   "execution_count": 67,
   "id": "dcaf4fa4",
   "metadata": {},
   "outputs": [
    {
     "data": {
      "text/plain": [
       "'1'"
      ]
     },
     "execution_count": 67,
     "metadata": {},
     "output_type": "execute_result"
    }
   ],
   "source": [
    "a"
   ]
  },
  {
   "cell_type": "code",
   "execution_count": 68,
   "id": "a9f34ac3",
   "metadata": {},
   "outputs": [
    {
     "data": {
      "text/plain": [
       "1"
      ]
     },
     "execution_count": 68,
     "metadata": {},
     "output_type": "execute_result"
    }
   ],
   "source": [
    "c=int(a)\n",
    "c"
   ]
  },
  {
   "cell_type": "markdown",
   "id": "ba7f56e0",
   "metadata": {},
   "source": [
    "# BOOl"
   ]
  },
  {
   "cell_type": "code",
   "execution_count": 69,
   "id": "de32b138",
   "metadata": {},
   "outputs": [],
   "source": [
    "a= 'i am good'"
   ]
  },
  {
   "cell_type": "code",
   "execution_count": 70,
   "id": "4599f997",
   "metadata": {},
   "outputs": [
    {
     "data": {
      "text/plain": [
       "True"
      ]
     },
     "execution_count": 70,
     "metadata": {},
     "output_type": "execute_result"
    }
   ],
   "source": [
    "'g' in a"
   ]
  },
  {
   "cell_type": "code",
   "execution_count": 71,
   "id": "8b638d13",
   "metadata": {},
   "outputs": [],
   "source": [
    "a= 'i am good'"
   ]
  },
  {
   "cell_type": "code",
   "execution_count": 72,
   "id": "a8a0f068",
   "metadata": {},
   "outputs": [
    {
     "data": {
      "text/plain": [
       "False"
      ]
     },
     "execution_count": 72,
     "metadata": {},
     "output_type": "execute_result"
    }
   ],
   "source": [
    "'f' in a "
   ]
  },
  {
   "cell_type": "markdown",
   "id": "f27750e1",
   "metadata": {},
   "source": [
    "- list [ ]\n",
    "- tuple ( )\n",
    "- set { }\n",
    "- dict{ }\n",
    "\n",
    " There are four collection data types in the Python programming language:\n",
    "\n",
    "-  List is a collection which is ordered and changeable. Allows duplicate members.\n",
    "-  Tuple is a collection which is ordered and unchangeable. Allows duplicate members.\n",
    "-  Set is a collection which is unordered, unchangeable*, and unindexed. No duplicate members.\n",
    "-  Dictionary is a collection which is ordered** and changeable. No duplicate members."
   ]
  },
  {
   "cell_type": "code",
   "execution_count": null,
   "id": "727d6c20",
   "metadata": {},
   "outputs": [],
   "source": []
  },
  {
   "cell_type": "markdown",
   "id": "800781d2",
   "metadata": {},
   "source": [
    "# List [ ]"
   ]
  },
  {
   "cell_type": "code",
   "execution_count": 2,
   "id": "771b2e4f",
   "metadata": {},
   "outputs": [],
   "source": [
    "a=[1,2.0,'abdul',4,4,5] # all data types and duplicates are allowed . order"
   ]
  },
  {
   "cell_type": "code",
   "execution_count": 4,
   "id": "6949aa27",
   "metadata": {},
   "outputs": [
    {
     "data": {
      "text/plain": [
       "[1, 2.0, 'abdul', 4, 4, 5]"
      ]
     },
     "execution_count": 4,
     "metadata": {},
     "output_type": "execute_result"
    }
   ],
   "source": [
    "a"
   ]
  },
  {
   "cell_type": "code",
   "execution_count": 75,
   "id": "0e0d4d1e",
   "metadata": {},
   "outputs": [
    {
     "data": {
      "text/plain": [
       "list"
      ]
     },
     "execution_count": 75,
     "metadata": {},
     "output_type": "execute_result"
    }
   ],
   "source": [
    "type(a)"
   ]
  },
  {
   "cell_type": "code",
   "execution_count": 8,
   "id": "68ff0864",
   "metadata": {},
   "outputs": [
    {
     "data": {
      "text/plain": [
       "1"
      ]
     },
     "execution_count": 8,
     "metadata": {},
     "output_type": "execute_result"
    }
   ],
   "source": [
    "a[0]"
   ]
  },
  {
   "cell_type": "code",
   "execution_count": 77,
   "id": "e4b1e4fc",
   "metadata": {},
   "outputs": [
    {
     "data": {
      "text/plain": [
       "1"
      ]
     },
     "execution_count": 77,
     "metadata": {},
     "output_type": "execute_result"
    }
   ],
   "source": [
    "# indexing and slicing is applicable\n",
    "\n",
    "a[0]"
   ]
  },
  {
   "cell_type": "code",
   "execution_count": 10,
   "id": "5696b3e8",
   "metadata": {},
   "outputs": [
    {
     "data": {
      "text/plain": [
       "[1, 2.0, 'abdul', 4]"
      ]
     },
     "execution_count": 10,
     "metadata": {},
     "output_type": "execute_result"
    }
   ],
   "source": [
    "a[0:4]"
   ]
  },
  {
   "cell_type": "code",
   "execution_count": 11,
   "id": "220e954c",
   "metadata": {},
   "outputs": [
    {
     "data": {
      "text/plain": [
       "[1, 2.0, 'abdul', 4, 4, 5]"
      ]
     },
     "execution_count": 11,
     "metadata": {},
     "output_type": "execute_result"
    }
   ],
   "source": [
    "#  list are mutable\n",
    "a"
   ]
  },
  {
   "cell_type": "code",
   "execution_count": 6,
   "id": "8953ba8e",
   "metadata": {},
   "outputs": [],
   "source": [
    "a[0]='python'"
   ]
  },
  {
   "cell_type": "code",
   "execution_count": 7,
   "id": "6570b4c8",
   "metadata": {},
   "outputs": [
    {
     "data": {
      "text/plain": [
       "['python', 2.0, 'abdul', 4, 4, 5]"
      ]
     },
     "execution_count": 7,
     "metadata": {},
     "output_type": "execute_result"
    }
   ],
   "source": [
    "a"
   ]
  },
  {
   "cell_type": "code",
   "execution_count": null,
   "id": "288722c5",
   "metadata": {},
   "outputs": [],
   "source": [
    "a.append(3)      # Append object to the end of the list."
   ]
  },
  {
   "cell_type": "code",
   "execution_count": 8,
   "id": "9ee9985a",
   "metadata": {},
   "outputs": [
    {
     "data": {
      "text/plain": [
       "['python', 2.0, 'abdul', 4, 4, 5]"
      ]
     },
     "execution_count": 8,
     "metadata": {},
     "output_type": "execute_result"
    }
   ],
   "source": [
    "a"
   ]
  },
  {
   "cell_type": "code",
   "execution_count": 16,
   "id": "625a97f6",
   "metadata": {},
   "outputs": [],
   "source": [
    "a.clear()      # Remove all items from list."
   ]
  },
  {
   "cell_type": "code",
   "execution_count": 30,
   "id": "4e68093d",
   "metadata": {},
   "outputs": [],
   "source": [
    "a=[1,2.0,'abdul',4,4,5]"
   ]
  },
  {
   "cell_type": "code",
   "execution_count": 38,
   "id": "42da1bfb",
   "metadata": {},
   "outputs": [
    {
     "data": {
      "text/plain": [
       "[1, 2.0, 'abdul', 4, 4, 5]"
      ]
     },
     "execution_count": 38,
     "metadata": {},
     "output_type": "execute_result"
    }
   ],
   "source": [
    "b=a.copy()     # Return a shallow copy of the list\n",
    "b             "
   ]
  },
  {
   "cell_type": "markdown",
   "id": "c73d911a",
   "metadata": {},
   "source": [
    "#  why you have to use copy() ?"
   ]
  },
  {
   "cell_type": "code",
   "execution_count": 2,
   "id": "24afee99",
   "metadata": {},
   "outputs": [],
   "source": [
    "a=[1,2,3,4,5]"
   ]
  },
  {
   "cell_type": "code",
   "execution_count": 3,
   "id": "3217d665",
   "metadata": {},
   "outputs": [
    {
     "data": {
      "text/plain": [
       "[1, 2, 3, 4, 5]"
      ]
     },
     "execution_count": 3,
     "metadata": {},
     "output_type": "execute_result"
    }
   ],
   "source": [
    "b=a.copy()\n",
    "b"
   ]
  },
  {
   "cell_type": "code",
   "execution_count": 4,
   "id": "83308e28",
   "metadata": {},
   "outputs": [
    {
     "data": {
      "text/plain": [
       "['abdul', 2, 3, 4, 5]"
      ]
     },
     "execution_count": 4,
     "metadata": {},
     "output_type": "execute_result"
    }
   ],
   "source": [
    "b[0]='abdul'\n",
    "b"
   ]
  },
  {
   "cell_type": "code",
   "execution_count": 5,
   "id": "4d9a1aad",
   "metadata": {},
   "outputs": [
    {
     "data": {
      "text/plain": [
       "[1, 2, 3, 4, 5]"
      ]
     },
     "execution_count": 5,
     "metadata": {},
     "output_type": "execute_result"
    }
   ],
   "source": [
    "a"
   ]
  },
  {
   "cell_type": "markdown",
   "id": "8bdef097",
   "metadata": {},
   "source": [
    "# Tuples ( )"
   ]
  },
  {
   "cell_type": "code",
   "execution_count": 10,
   "id": "1bd2fe65",
   "metadata": {},
   "outputs": [],
   "source": [
    "a=(1,2,3,4,5,5.0,6,'name')"
   ]
  },
  {
   "cell_type": "code",
   "execution_count": 11,
   "id": "ea835171",
   "metadata": {},
   "outputs": [
    {
     "data": {
      "text/plain": [
       "tuple"
      ]
     },
     "execution_count": 11,
     "metadata": {},
     "output_type": "execute_result"
    }
   ],
   "source": [
    "type(a)"
   ]
  },
  {
   "cell_type": "code",
   "execution_count": 16,
   "id": "830dba74",
   "metadata": {},
   "outputs": [
    {
     "data": {
      "text/plain": [
       "(1, 2, 3, 4, 5, 5.0, 6, 'name')"
      ]
     },
     "execution_count": 16,
     "metadata": {},
     "output_type": "execute_result"
    }
   ],
   "source": [
    "a                  # ordered , immutal,duplicates and all data types are allowed "
   ]
  },
  {
   "cell_type": "code",
   "execution_count": 17,
   "id": "e1379c19",
   "metadata": {},
   "outputs": [
    {
     "data": {
      "text/plain": [
       "2"
      ]
     },
     "execution_count": 17,
     "metadata": {},
     "output_type": "execute_result"
    }
   ],
   "source": [
    "a.count(5)"
   ]
  },
  {
   "cell_type": "code",
   "execution_count": 22,
   "id": "c2102557",
   "metadata": {},
   "outputs": [
    {
     "data": {
      "text/plain": [
       "6"
      ]
     },
     "execution_count": 22,
     "metadata": {},
     "output_type": "execute_result"
    }
   ],
   "source": [
    "a.index(6)"
   ]
  },
  {
   "cell_type": "markdown",
   "id": "8e7a2b7d",
   "metadata": {},
   "source": [
    "# Set { }"
   ]
  },
  {
   "cell_type": "code",
   "execution_count": 25,
   "id": "8a64e13f",
   "metadata": {},
   "outputs": [],
   "source": [
    "d={1,2,3,4,5}"
   ]
  },
  {
   "cell_type": "code",
   "execution_count": 26,
   "id": "94212cef",
   "metadata": {},
   "outputs": [
    {
     "data": {
      "text/plain": [
       "set"
      ]
     },
     "execution_count": 26,
     "metadata": {},
     "output_type": "execute_result"
    }
   ],
   "source": [
    "type(d)"
   ]
  },
  {
   "cell_type": "code",
   "execution_count": 27,
   "id": "e64ae5c7",
   "metadata": {},
   "outputs": [
    {
     "data": {
      "text/plain": [
       "{1, 2, 3, 4, 5}"
      ]
     },
     "execution_count": 27,
     "metadata": {},
     "output_type": "execute_result"
    }
   ],
   "source": [
    "d."
   ]
  },
  {
   "cell_type": "code",
   "execution_count": 28,
   "id": "195d8684",
   "metadata": {},
   "outputs": [],
   "source": [
    "f={'apple', 'orange', 'apple','pear', 'orange', 'banana'}"
   ]
  },
  {
   "cell_type": "code",
   "execution_count": 30,
   "id": "a44bb404",
   "metadata": {},
   "outputs": [
    {
     "data": {
      "text/plain": [
       "{'apple', 'banana', 'orange', 'pear'}"
      ]
     },
     "execution_count": 30,
     "metadata": {},
     "output_type": "execute_result"
    }
   ],
   "source": [
    "f"
   ]
  },
  {
   "cell_type": "code",
   "execution_count": 32,
   "id": "eac5d4be",
   "metadata": {},
   "outputs": [
    {
     "name": "stdout",
     "output_type": "stream",
     "text": [
      "{'apple', 'orange', 'pear', 'banana'}\n"
     ]
    }
   ],
   "source": [
    "print(f)"
   ]
  },
  {
   "cell_type": "code",
   "execution_count": 33,
   "id": "64527907",
   "metadata": {},
   "outputs": [
    {
     "data": {
      "text/plain": [
       "'apple'"
      ]
     },
     "execution_count": 33,
     "metadata": {},
     "output_type": "execute_result"
    }
   ],
   "source": [
    "f.pop()"
   ]
  },
  {
   "cell_type": "code",
   "execution_count": 34,
   "id": "1415a533",
   "metadata": {},
   "outputs": [
    {
     "data": {
      "text/plain": [
       "{'banana', 'orange', 'pear'}"
      ]
     },
     "execution_count": 34,
     "metadata": {},
     "output_type": "execute_result"
    }
   ],
   "source": [
    "f"
   ]
  },
  {
   "cell_type": "code",
   "execution_count": 35,
   "id": "e340ee81",
   "metadata": {},
   "outputs": [
    {
     "data": {
      "text/plain": [
       "'orange'"
      ]
     },
     "execution_count": 35,
     "metadata": {},
     "output_type": "execute_result"
    }
   ],
   "source": [
    "f.pop()"
   ]
  },
  {
   "cell_type": "code",
   "execution_count": 36,
   "id": "c29149ac",
   "metadata": {},
   "outputs": [
    {
     "data": {
      "text/plain": [
       "{'banana', 'pear'}"
      ]
     },
     "execution_count": 36,
     "metadata": {},
     "output_type": "execute_result"
    }
   ],
   "source": [
    "f"
   ]
  },
  {
   "cell_type": "code",
   "execution_count": 38,
   "id": "4f4afa4d",
   "metadata": {},
   "outputs": [],
   "source": [
    "f.remove('pear')"
   ]
  },
  {
   "cell_type": "code",
   "execution_count": 39,
   "id": "ff4726da",
   "metadata": {},
   "outputs": [
    {
     "data": {
      "text/plain": [
       "{'banana'}"
      ]
     },
     "execution_count": 39,
     "metadata": {},
     "output_type": "execute_result"
    }
   ],
   "source": [
    "f"
   ]
  },
  {
   "cell_type": "markdown",
   "id": "4c1e64c5",
   "metadata": {},
   "source": [
    "# Dict { }"
   ]
  },
  {
   "cell_type": "code",
   "execution_count": 40,
   "id": "1d081cbe",
   "metadata": {},
   "outputs": [],
   "source": [
    "g={'keys': 1}"
   ]
  },
  {
   "cell_type": "code",
   "execution_count": 41,
   "id": "a6d7907e",
   "metadata": {},
   "outputs": [
    {
     "data": {
      "text/plain": [
       "dict"
      ]
     },
     "execution_count": 41,
     "metadata": {},
     "output_type": "execute_result"
    }
   ],
   "source": [
    "type(g)"
   ]
  },
  {
   "cell_type": "code",
   "execution_count": 42,
   "id": "5162c90f",
   "metadata": {},
   "outputs": [],
   "source": [
    "h={'jack': 4098,'sape': 4139}"
   ]
  },
  {
   "cell_type": "code",
   "execution_count": 43,
   "id": "6c4074a9",
   "metadata": {},
   "outputs": [
    {
     "data": {
      "text/plain": [
       "dict"
      ]
     },
     "execution_count": 43,
     "metadata": {},
     "output_type": "execute_result"
    }
   ],
   "source": [
    "type(h)"
   ]
  },
  {
   "cell_type": "code",
   "execution_count": 44,
   "id": "3c760db6",
   "metadata": {},
   "outputs": [
    {
     "data": {
      "text/plain": [
       "dict_keys(['jack', 'sape'])"
      ]
     },
     "execution_count": 44,
     "metadata": {},
     "output_type": "execute_result"
    }
   ],
   "source": [
    "h.keys()"
   ]
  },
  {
   "cell_type": "code",
   "execution_count": 45,
   "id": "27a72fe2",
   "metadata": {},
   "outputs": [
    {
     "data": {
      "text/plain": [
       "dict_values([4098, 4139])"
      ]
     },
     "execution_count": 45,
     "metadata": {},
     "output_type": "execute_result"
    }
   ],
   "source": [
    "h.values()"
   ]
  },
  {
   "cell_type": "code",
   "execution_count": 46,
   "id": "d1fa0593",
   "metadata": {},
   "outputs": [
    {
     "data": {
      "text/plain": [
       "4139"
      ]
     },
     "execution_count": 46,
     "metadata": {},
     "output_type": "execute_result"
    }
   ],
   "source": [
    "h.get('sape')"
   ]
  },
  {
   "cell_type": "code",
   "execution_count": 47,
   "id": "fa9775b6",
   "metadata": {},
   "outputs": [
    {
     "data": {
      "text/plain": [
       "4139"
      ]
     },
     "execution_count": 47,
     "metadata": {},
     "output_type": "execute_result"
    }
   ],
   "source": [
    "h['sape']"
   ]
  },
  {
   "cell_type": "code",
   "execution_count": 48,
   "id": "399ec914",
   "metadata": {},
   "outputs": [],
   "source": [
    "data= {\n",
    "    \"student_1\":{\n",
    "        'name': 'saba',\n",
    "        \"mark\": 35\n",
    "                },\n",
    "      \"student_2\":{\n",
    "        'name': 'moni',\n",
    "        \"mark\": 35\n",
    "                }\n",
    "    \n",
    "    }"
   ]
  },
  {
   "cell_type": "code",
   "execution_count": 49,
   "id": "1ba9dd7f",
   "metadata": {},
   "outputs": [
    {
     "data": {
      "text/plain": [
       "{'student_1': {'name': 'saba', 'mark': 35},\n",
       " 'student_2': {'name': 'moni', 'mark': 35}}"
      ]
     },
     "execution_count": 49,
     "metadata": {},
     "output_type": "execute_result"
    }
   ],
   "source": [
    "data"
   ]
  },
  {
   "cell_type": "code",
   "execution_count": 50,
   "id": "55db49b1",
   "metadata": {},
   "outputs": [
    {
     "data": {
      "text/plain": [
       "{'name': 'saba', 'mark': 35}"
      ]
     },
     "execution_count": 50,
     "metadata": {},
     "output_type": "execute_result"
    }
   ],
   "source": [
    "data['student_1']"
   ]
  },
  {
   "cell_type": "code",
   "execution_count": 51,
   "id": "0e730d51",
   "metadata": {},
   "outputs": [
    {
     "data": {
      "text/plain": [
       "35"
      ]
     },
     "execution_count": 51,
     "metadata": {},
     "output_type": "execute_result"
    }
   ],
   "source": [
    "data['student_1']['mark']"
   ]
  },
  {
   "cell_type": "markdown",
   "id": "b2a25b34",
   "metadata": {},
   "source": [
    "# if statements"
   ]
  },
  {
   "cell_type": "code",
   "execution_count": 125,
   "id": "64f49510",
   "metadata": {},
   "outputs": [],
   "source": [
    "a=2"
   ]
  },
  {
   "cell_type": "code",
   "execution_count": 126,
   "id": "5ab54d14",
   "metadata": {},
   "outputs": [
    {
     "name": "stdout",
     "output_type": "stream",
     "text": [
      "2\n",
      "values are  12\n"
     ]
    }
   ],
   "source": [
    "if a<10:\n",
    "    print(a)\n",
    "    c=a+10\n",
    "    print('values are ',c)\n"
   ]
  },
  {
   "cell_type": "code",
   "execution_count": 3,
   "id": "718a999e",
   "metadata": {},
   "outputs": [],
   "source": [
    "a=23"
   ]
  },
  {
   "cell_type": "code",
   "execution_count": 5,
   "id": "5ae070ab",
   "metadata": {},
   "outputs": [
    {
     "name": "stdout",
     "output_type": "stream",
     "text": [
      "The values is greater 10 and the value is : 23\n"
     ]
    }
   ],
   "source": [
    "if a<10:\n",
    "    print(a)\n",
    "    c=a+10\n",
    "    print('values are ',c)\n",
    "else:\n",
    "    print('The values is greater 10 and the value is :',a)"
   ]
  },
  {
   "cell_type": "code",
   "execution_count": 9,
   "id": "bf1f48fe",
   "metadata": {},
   "outputs": [],
   "source": [
    "a=20"
   ]
  },
  {
   "cell_type": "markdown",
   "id": "812343a2",
   "metadata": {},
   "source": [
    "elif\n",
    "\n",
    "else  : above condition fail\n",
    "    \n",
    "if : condition is true rue\n"
   ]
  },
  {
   "cell_type": "code",
   "execution_count": 14,
   "id": "e86e891c",
   "metadata": {},
   "outputs": [
    {
     "name": "stdout",
     "output_type": "stream",
     "text": [
      "value is 20\n"
     ]
    }
   ],
   "source": [
    "if a<10:\n",
    "    print(a)\n",
    "    c=a+10\n",
    "    print('values are ',c)\n",
    "    \n",
    "elif a==20:\n",
    "    print('value is 20')\n",
    "\n",
    "          \n",
    "elif a==20:\n",
    "    print('The value is 10+10') \n",
    "    \n",
    "else:\n",
    "    print('The values is greater 10 and the value is :',a)"
   ]
  },
  {
   "cell_type": "markdown",
   "id": "777fefaa",
   "metadata": {},
   "source": [
    "# loop\n",
    "\n",
    "    - for loop\n",
    "    - while loop"
   ]
  },
  {
   "cell_type": "code",
   "execution_count": 1,
   "id": "2c7b0f8f",
   "metadata": {},
   "outputs": [],
   "source": [
    "a=['saba','mani','rahul','mahesh','danapal','raam','abdul']"
   ]
  },
  {
   "cell_type": "code",
   "execution_count": 2,
   "id": "c4ec03c4",
   "metadata": {},
   "outputs": [
    {
     "data": {
      "text/plain": [
       "list"
      ]
     },
     "execution_count": 2,
     "metadata": {},
     "output_type": "execute_result"
    }
   ],
   "source": [
    "type(a)"
   ]
  },
  {
   "cell_type": "code",
   "execution_count": 3,
   "id": "d591dc6f",
   "metadata": {},
   "outputs": [
    {
     "data": {
      "text/plain": [
       "'saba'"
      ]
     },
     "execution_count": 3,
     "metadata": {},
     "output_type": "execute_result"
    }
   ],
   "source": [
    "a[0]"
   ]
  },
  {
   "cell_type": "code",
   "execution_count": 4,
   "id": "27774632",
   "metadata": {},
   "outputs": [
    {
     "data": {
      "text/plain": [
       "'mani'"
      ]
     },
     "execution_count": 4,
     "metadata": {},
     "output_type": "execute_result"
    }
   ],
   "source": [
    "a[1]"
   ]
  },
  {
   "cell_type": "code",
   "execution_count": 6,
   "id": "110b1eae",
   "metadata": {},
   "outputs": [
    {
     "data": {
      "text/plain": [
       "'rahul'"
      ]
     },
     "execution_count": 6,
     "metadata": {},
     "output_type": "execute_result"
    }
   ],
   "source": [
    "a[2]"
   ]
  },
  {
   "cell_type": "code",
   "execution_count": 9,
   "id": "fccdf93a",
   "metadata": {},
   "outputs": [
    {
     "data": {
      "text/plain": [
       "list"
      ]
     },
     "execution_count": 9,
     "metadata": {},
     "output_type": "execute_result"
    }
   ],
   "source": [
    "a=['saba','mani','rahul','mahesh','danapal','raam','abdul']\n",
    "type(a)"
   ]
  },
  {
   "cell_type": "code",
   "execution_count": 14,
   "id": "d4ada0e0",
   "metadata": {},
   "outputs": [
    {
     "name": "stdout",
     "output_type": "stream",
     "text": [
      "saba\n",
      "mani\n",
      "rahul\n",
      "mahesh\n",
      "danapal\n",
      "raam\n",
      "abdul\n"
     ]
    }
   ],
   "source": [
    "for item in a:\n",
    "    print(item)"
   ]
  },
  {
   "cell_type": "code",
   "execution_count": 24,
   "id": "3ed9ec97",
   "metadata": {},
   "outputs": [
    {
     "name": "stdout",
     "output_type": "stream",
     "text": [
      "saba\n",
      "bye\n",
      "mani\n",
      "bye\n",
      "rahul\n",
      "bye\n",
      "mahesh\n",
      "bye\n",
      "danapal\n",
      "bye\n",
      "raam\n",
      "bye\n",
      "abdul\n",
      "bye\n",
      "The list of empty\n"
     ]
    }
   ],
   "source": [
    "for item in a:\n",
    "    print(item)\n",
    "    if item =='dhanapal':\n",
    "        print('hi ')\n",
    "        \n",
    "    else:\n",
    "        print('bye')\n",
    "else:\n",
    "    print('The list of empty')"
   ]
  },
  {
   "cell_type": "markdown",
   "id": "51596e16",
   "metadata": {},
   "source": [
    "# while loop"
   ]
  },
  {
   "cell_type": "code",
   "execution_count": 29,
   "id": "15aa07d9",
   "metadata": {},
   "outputs": [
    {
     "name": "stdout",
     "output_type": "stream",
     "text": [
      "1\n",
      "2\n",
      "3\n",
      "4\n",
      "5\n",
      "6\n",
      "7\n",
      "8\n",
      "9\n"
     ]
    }
   ],
   "source": [
    "i = 1\n",
    "while i<10:\n",
    "    print(i)\n",
    "    i=i+1"
   ]
  },
  {
   "cell_type": "code",
   "execution_count": null,
   "id": "856efa20",
   "metadata": {},
   "outputs": [],
   "source": []
  },
  {
   "cell_type": "code",
   "execution_count": null,
   "id": "88c302ff",
   "metadata": {},
   "outputs": [],
   "source": []
  },
  {
   "cell_type": "code",
   "execution_count": null,
   "id": "d8c85327",
   "metadata": {},
   "outputs": [],
   "source": []
  },
  {
   "cell_type": "code",
   "execution_count": null,
   "id": "573526d3",
   "metadata": {},
   "outputs": [],
   "source": []
  },
  {
   "cell_type": "code",
   "execution_count": null,
   "id": "d3525ad8",
   "metadata": {},
   "outputs": [],
   "source": []
  },
  {
   "cell_type": "code",
   "execution_count": null,
   "id": "b9ccc523",
   "metadata": {},
   "outputs": [],
   "source": []
  },
  {
   "cell_type": "code",
   "execution_count": null,
   "id": "9084cf6a",
   "metadata": {},
   "outputs": [],
   "source": []
  },
  {
   "cell_type": "code",
   "execution_count": null,
   "id": "bb6b933b",
   "metadata": {},
   "outputs": [],
   "source": []
  },
  {
   "cell_type": "code",
   "execution_count": null,
   "id": "e77cbba4",
   "metadata": {},
   "outputs": [],
   "source": []
  },
  {
   "cell_type": "code",
   "execution_count": null,
   "id": "c0cf69b4",
   "metadata": {},
   "outputs": [],
   "source": []
  }
 ],
 "metadata": {
  "kernelspec": {
   "display_name": "Python 3 (ipykernel)",
   "language": "python",
   "name": "python3"
  },
  "language_info": {
   "codemirror_mode": {
    "name": "ipython",
    "version": 3
   },
   "file_extension": ".py",
   "mimetype": "text/x-python",
   "name": "python",
   "nbconvert_exporter": "python",
   "pygments_lexer": "ipython3",
   "version": "3.11.0"
  }
 },
 "nbformat": 4,
 "nbformat_minor": 5
}
