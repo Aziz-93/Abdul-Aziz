{
 "cells": [
  {
   "cell_type": "markdown",
   "id": "9673c7a2",
   "metadata": {},
   "source": [
    "# Task 1\n",
    "#Remove duplicates "
   ]
  },
  {
   "cell_type": "code",
   "execution_count": 14,
   "id": "be5f3e37",
   "metadata": {},
   "outputs": [],
   "source": [
    "a=[2,3,4,2,3,4,8,9,12,\"apple\",'Apple']"
   ]
  },
  {
   "cell_type": "code",
   "execution_count": 15,
   "id": "fbbb75cf",
   "metadata": {},
   "outputs": [],
   "source": [
    "a=set(a)"
   ]
  },
  {
   "cell_type": "code",
   "execution_count": 16,
   "id": "f655fabc",
   "metadata": {},
   "outputs": [
    {
     "data": {
      "text/plain": [
       "set"
      ]
     },
     "execution_count": 16,
     "metadata": {},
     "output_type": "execute_result"
    }
   ],
   "source": [
    "type(a)"
   ]
  },
  {
   "cell_type": "code",
   "execution_count": 17,
   "id": "39a72890",
   "metadata": {},
   "outputs": [
    {
     "data": {
      "text/plain": [
       "{12, 2, 3, 4, 8, 9, 'Apple', 'apple'}"
      ]
     },
     "execution_count": 17,
     "metadata": {},
     "output_type": "execute_result"
    }
   ],
   "source": [
    "a"
   ]
  },
  {
   "cell_type": "code",
   "execution_count": 18,
   "id": "2ebce94a",
   "metadata": {},
   "outputs": [
    {
     "data": {
      "text/plain": [
       "[2, 3, 4, 'Apple', 8, 9, 12, 'apple']"
      ]
     },
     "execution_count": 18,
     "metadata": {},
     "output_type": "execute_result"
    }
   ],
   "source": [
    "a=list(a)\n",
    "a"
   ]
  },
  {
   "cell_type": "markdown",
   "id": "43cedc73",
   "metadata": {},
   "source": [
    "# Task 2 /slice"
   ]
  },
  {
   "cell_type": "code",
   "execution_count": 32,
   "id": "6c2ad910",
   "metadata": {},
   "outputs": [],
   "source": [
    "b='i need an apple'"
   ]
  },
  {
   "cell_type": "code",
   "execution_count": 33,
   "id": "43a28542",
   "metadata": {},
   "outputs": [
    {
     "data": {
      "text/plain": [
       "'apple'"
      ]
     },
     "execution_count": 33,
     "metadata": {},
     "output_type": "execute_result"
    }
   ],
   "source": [
    "b[10:15]"
   ]
  },
  {
   "cell_type": "markdown",
   "id": "350e8e3c",
   "metadata": {},
   "source": [
    "# Task 3 "
   ]
  },
  {
   "cell_type": "code",
   "execution_count": 40,
   "id": "a240e1ac",
   "metadata": {},
   "outputs": [
    {
     "name": "stdout",
     "output_type": "stream",
     "text": [
      "Enter first number:2\n",
      "Enter second number:6\n",
      "8 is even\n",
      "8\n"
     ]
    }
   ],
   "source": [
    "def Task():\n",
    "    num1=int(input(\"Enter first number:\"));\n",
    "    num2=int(input(\"Enter second number:\"));\n",
    "    if num1 and num2 % 2==0:\n",
    "        a=num1+num2\n",
    "        print(a,'is even')\n",
    "        return a\n",
    "    else:\n",
    "        a=num1*num2\n",
    "        print(a,'is odd')\n",
    "        return a\n",
    "print(Task())"
   ]
  },
  {
   "cell_type": "code",
   "execution_count": 41,
   "id": "10a382d1",
   "metadata": {},
   "outputs": [
    {
     "name": "stdout",
     "output_type": "stream",
     "text": [
      "Enter first number:7\n",
      "Enter second number:3\n",
      "21 is odd\n",
      "21\n"
     ]
    }
   ],
   "source": [
    "def Task():\n",
    "    num1=int(input(\"Enter first number:\"));\n",
    "    num2=int(input(\"Enter second number:\"));\n",
    "    if num1 and num2 % 2==0:\n",
    "        a=num1+num2\n",
    "        print(a,'is even')\n",
    "        return a\n",
    "    else:\n",
    "        a=num1*num2\n",
    "        print(a,'is odd')\n",
    "        return a\n",
    "print(Task())"
   ]
  },
  {
   "cell_type": "markdown",
   "id": "9a17eb5a",
   "metadata": {},
   "source": [
    "# task 4"
   ]
  },
  {
   "cell_type": "code",
   "execution_count": 43,
   "id": "668d589f",
   "metadata": {},
   "outputs": [],
   "source": [
    "def add (a,b):\n",
    "    c=a+b\n",
    "    return(c)"
   ]
  },
  {
   "cell_type": "code",
   "execution_count": 44,
   "id": "4a148f51",
   "metadata": {},
   "outputs": [
    {
     "data": {
      "text/plain": [
       "10"
      ]
     },
     "execution_count": 44,
     "metadata": {},
     "output_type": "execute_result"
    }
   ],
   "source": [
    "add(5,5)"
   ]
  },
  {
   "cell_type": "code",
   "execution_count": 46,
   "id": "dd1ac839",
   "metadata": {},
   "outputs": [
    {
     "name": "stdout",
     "output_type": "stream",
     "text": [
      "8 x  1 = 8\n",
      "8 x  2 = 16\n",
      "8 x  3 = 24\n",
      "8 x  4 = 32\n",
      "8 x  5 = 40\n",
      "8 x  6 = 48\n",
      "8 x  7 = 56\n",
      "8 x  8 = 64\n",
      "8 x  9 = 72\n",
      "8 x  10 = 80\n"
     ]
    }
   ],
   "source": [
    "for i in range(1,11):\n",
    "    print(\"8 x \",i,\"=\",8*i)"
   ]
  },
  {
   "cell_type": "code",
   "execution_count": null,
   "id": "ff15f0f5",
   "metadata": {},
   "outputs": [],
   "source": []
  },
  {
   "cell_type": "code",
   "execution_count": null,
   "id": "03b3d3e7",
   "metadata": {},
   "outputs": [],
   "source": []
  },
  {
   "cell_type": "code",
   "execution_count": null,
   "id": "6410ab16",
   "metadata": {},
   "outputs": [],
   "source": []
  },
  {
   "cell_type": "code",
   "execution_count": null,
   "id": "4242ee10",
   "metadata": {},
   "outputs": [],
   "source": []
  }
 ],
 "metadata": {
  "kernelspec": {
   "display_name": "Python 3 (ipykernel)",
   "language": "python",
   "name": "python3"
  },
  "language_info": {
   "codemirror_mode": {
    "name": "ipython",
    "version": 3
   },
   "file_extension": ".py",
   "mimetype": "text/x-python",
   "name": "python",
   "nbconvert_exporter": "python",
   "pygments_lexer": "ipython3",
   "version": "3.11.0"
  }
 },
 "nbformat": 4,
 "nbformat_minor": 5
}
